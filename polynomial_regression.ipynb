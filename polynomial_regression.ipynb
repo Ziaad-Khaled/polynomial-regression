{
  "cells": [
    {
      "cell_type": "markdown",
      "metadata": {
        "id": "nz_9QnWBj9_6"
      },
      "source": [
        "# Polynomial Regression"
      ]
    },
    {
      "cell_type": "markdown",
      "metadata": {
        "id": "oNtRAlw1uQYi"
      },
      "source": [
        "## The objective is to apply polynomial regression on the provided data using 3 regularization techniques"
      ]
    },
    {
      "cell_type": "markdown",
      "metadata": {
        "id": "0Sh_Oqa2j9_7"
      },
      "source": [
        "Tasks are defined below:\n",
        "1-  Read the dataset, and get acquainted with its features and labels. Check the link below for more details about the data.  \n",
        "https://archive.ics.uci.edu/ml/datasets/Air+Quality  \n",
        "\n",
        "2-  This dataset has 5 different output labels. For this assignment we only need the NO2 output. Please drop other outputs.  \n",
        "\n",
        "3-  Handle missing data.\n",
        "\n",
        "4-  Replace the date feature with 3 separate features (Day, Month and Year).  \n",
        "\n",
        "5-  Replace the time feature with 3 separate features (Hours, Minutes and Seconds).  \n",
        "\n",
        "6-  Apply feature scaling.  \n",
        "\n",
        "7-  Evaluate different degrees of lasso CV polynomial regression.  \n",
        "\n",
        "8-  Choose the best degree and print the errors on the test data, model coefficients and the lasso parameters.  \n",
        "\n",
        "9-  Repeat steps 4 and 5 using Ridge CV polynomial regression.  \n",
        "\n",
        "10- Repeat steps 4 and 5 using ElasticNet CV polynomial regression.  \n",
        "\n",
        "11- Compare the errors from the 3 regularization techniques, and save the best model.  \n",
        "\n",
        "12- Load the best model and test it on a sample that you manually created it.  \n"
      ]
    },
    {
      "cell_type": "markdown",
      "metadata": {
        "id": "bsZFdAtSj9_8"
      },
      "source": [
        "\n",
        "### Imports"
      ]
    },
    {
      "cell_type": "code",
      "execution_count": 1,
      "metadata": {
        "id": "nuN2-J1bj9_9"
      },
      "outputs": [],
      "source": [
        "import numpy as np\n",
        "import pandas as pd\n",
        "import matplotlib.pyplot as plt\n",
        "import seaborn as sns"
      ]
    },
    {
      "cell_type": "code",
      "execution_count": 2,
      "metadata": {
        "id": "OG6Wd-_U_jgV"
      },
      "outputs": [],
      "source": [
        "from sklearn.model_selection import train_test_split"
      ]
    },
    {
      "cell_type": "markdown",
      "metadata": {
        "id": "hszifOuTj9__"
      },
      "source": [
        "### 1- Read the data"
      ]
    },
    {
      "cell_type": "code",
      "execution_count": 3,
      "metadata": {
        "id": "ZzX469qmUTu2"
      },
      "outputs": [],
      "source": [
        "df = pd.read_csv(\"AirQualityUCI.csv\")"
      ]
    },
    {
      "cell_type": "code",
      "execution_count": 4,
      "metadata": {
        "colab": {
          "base_uri": "https://localhost:8080/",
          "height": 270
        },
        "id": "TJK-vd18_jgW",
        "outputId": "8f30654c-5dd9-41c7-84c2-b5386eaac871",
        "scrolled": false
      },
      "outputs": [
        {
          "data": {
            "text/html": [
              "\n",
              "  <div id=\"df-c6a2bce0-e35e-41c2-b5c2-57bfba5cf7b7\">\n",
              "    <div class=\"colab-df-container\">\n",
              "      <div>\n",
              "<style scoped>\n",
              "    .dataframe tbody tr th:only-of-type {\n",
              "        vertical-align: middle;\n",
              "    }\n",
              "\n",
              "    .dataframe tbody tr th {\n",
              "        vertical-align: top;\n",
              "    }\n",
              "\n",
              "    .dataframe thead th {\n",
              "        text-align: right;\n",
              "    }\n",
              "</style>\n",
              "<table border=\"1\" class=\"dataframe\">\n",
              "  <thead>\n",
              "    <tr style=\"text-align: right;\">\n",
              "      <th></th>\n",
              "      <th>Date</th>\n",
              "      <th>Time</th>\n",
              "      <th>CO(GT)</th>\n",
              "      <th>PT08.S1(CO)</th>\n",
              "      <th>NMHC(GT)</th>\n",
              "      <th>C6H6(GT)</th>\n",
              "      <th>PT08.S2(NMHC)</th>\n",
              "      <th>NOx(GT)</th>\n",
              "      <th>PT08.S3(NOx)</th>\n",
              "      <th>NO2(GT)</th>\n",
              "      <th>PT08.S4(NO2)</th>\n",
              "      <th>PT08.S5(O3)</th>\n",
              "      <th>T</th>\n",
              "      <th>RH</th>\n",
              "      <th>AH</th>\n",
              "    </tr>\n",
              "  </thead>\n",
              "  <tbody>\n",
              "    <tr>\n",
              "      <th>0</th>\n",
              "      <td>3/10/2004</td>\n",
              "      <td>18:00:00</td>\n",
              "      <td>2.6</td>\n",
              "      <td>1360.0</td>\n",
              "      <td>150.0</td>\n",
              "      <td>11.9</td>\n",
              "      <td>1046.0</td>\n",
              "      <td>166.0</td>\n",
              "      <td>1056.0</td>\n",
              "      <td>113.0</td>\n",
              "      <td>1692.0</td>\n",
              "      <td>1268.0</td>\n",
              "      <td>13.6</td>\n",
              "      <td>48.9</td>\n",
              "      <td>0.7578</td>\n",
              "    </tr>\n",
              "    <tr>\n",
              "      <th>1</th>\n",
              "      <td>3/10/2004</td>\n",
              "      <td>19:00:00</td>\n",
              "      <td>2.0</td>\n",
              "      <td>1292.0</td>\n",
              "      <td>112.0</td>\n",
              "      <td>9.4</td>\n",
              "      <td>955.0</td>\n",
              "      <td>103.0</td>\n",
              "      <td>1174.0</td>\n",
              "      <td>92.0</td>\n",
              "      <td>1559.0</td>\n",
              "      <td>972.0</td>\n",
              "      <td>13.3</td>\n",
              "      <td>47.7</td>\n",
              "      <td>0.7255</td>\n",
              "    </tr>\n",
              "    <tr>\n",
              "      <th>2</th>\n",
              "      <td>3/10/2004</td>\n",
              "      <td>20:00:00</td>\n",
              "      <td>2.2</td>\n",
              "      <td>1402.0</td>\n",
              "      <td>88.0</td>\n",
              "      <td>9.0</td>\n",
              "      <td>939.0</td>\n",
              "      <td>131.0</td>\n",
              "      <td>1140.0</td>\n",
              "      <td>114.0</td>\n",
              "      <td>1555.0</td>\n",
              "      <td>1074.0</td>\n",
              "      <td>11.9</td>\n",
              "      <td>54.0</td>\n",
              "      <td>0.7502</td>\n",
              "    </tr>\n",
              "    <tr>\n",
              "      <th>3</th>\n",
              "      <td>3/10/2004</td>\n",
              "      <td>21:00:00</td>\n",
              "      <td>2.2</td>\n",
              "      <td>1376.0</td>\n",
              "      <td>80.0</td>\n",
              "      <td>9.2</td>\n",
              "      <td>948.0</td>\n",
              "      <td>172.0</td>\n",
              "      <td>1092.0</td>\n",
              "      <td>122.0</td>\n",
              "      <td>1584.0</td>\n",
              "      <td>1203.0</td>\n",
              "      <td>11.0</td>\n",
              "      <td>60.0</td>\n",
              "      <td>0.7867</td>\n",
              "    </tr>\n",
              "    <tr>\n",
              "      <th>4</th>\n",
              "      <td>3/10/2004</td>\n",
              "      <td>22:00:00</td>\n",
              "      <td>1.6</td>\n",
              "      <td>1272.0</td>\n",
              "      <td>51.0</td>\n",
              "      <td>6.5</td>\n",
              "      <td>836.0</td>\n",
              "      <td>131.0</td>\n",
              "      <td>1205.0</td>\n",
              "      <td>116.0</td>\n",
              "      <td>1490.0</td>\n",
              "      <td>1110.0</td>\n",
              "      <td>11.2</td>\n",
              "      <td>59.6</td>\n",
              "      <td>0.7888</td>\n",
              "    </tr>\n",
              "  </tbody>\n",
              "</table>\n",
              "</div>\n",
              "      <button class=\"colab-df-convert\" onclick=\"convertToInteractive('df-c6a2bce0-e35e-41c2-b5c2-57bfba5cf7b7')\"\n",
              "              title=\"Convert this dataframe to an interactive table.\"\n",
              "              style=\"display:none;\">\n",
              "        \n",
              "  <svg xmlns=\"http://www.w3.org/2000/svg\" height=\"24px\"viewBox=\"0 0 24 24\"\n",
              "       width=\"24px\">\n",
              "    <path d=\"M0 0h24v24H0V0z\" fill=\"none\"/>\n",
              "    <path d=\"M18.56 5.44l.94 2.06.94-2.06 2.06-.94-2.06-.94-.94-2.06-.94 2.06-2.06.94zm-11 1L8.5 8.5l.94-2.06 2.06-.94-2.06-.94L8.5 2.5l-.94 2.06-2.06.94zm10 10l.94 2.06.94-2.06 2.06-.94-2.06-.94-.94-2.06-.94 2.06-2.06.94z\"/><path d=\"M17.41 7.96l-1.37-1.37c-.4-.4-.92-.59-1.43-.59-.52 0-1.04.2-1.43.59L10.3 9.45l-7.72 7.72c-.78.78-.78 2.05 0 2.83L4 21.41c.39.39.9.59 1.41.59.51 0 1.02-.2 1.41-.59l7.78-7.78 2.81-2.81c.8-.78.8-2.07 0-2.86zM5.41 20L4 18.59l7.72-7.72 1.47 1.35L5.41 20z\"/>\n",
              "  </svg>\n",
              "      </button>\n",
              "      \n",
              "  <style>\n",
              "    .colab-df-container {\n",
              "      display:flex;\n",
              "      flex-wrap:wrap;\n",
              "      gap: 12px;\n",
              "    }\n",
              "\n",
              "    .colab-df-convert {\n",
              "      background-color: #E8F0FE;\n",
              "      border: none;\n",
              "      border-radius: 50%;\n",
              "      cursor: pointer;\n",
              "      display: none;\n",
              "      fill: #1967D2;\n",
              "      height: 32px;\n",
              "      padding: 0 0 0 0;\n",
              "      width: 32px;\n",
              "    }\n",
              "\n",
              "    .colab-df-convert:hover {\n",
              "      background-color: #E2EBFA;\n",
              "      box-shadow: 0px 1px 2px rgba(60, 64, 67, 0.3), 0px 1px 3px 1px rgba(60, 64, 67, 0.15);\n",
              "      fill: #174EA6;\n",
              "    }\n",
              "\n",
              "    [theme=dark] .colab-df-convert {\n",
              "      background-color: #3B4455;\n",
              "      fill: #D2E3FC;\n",
              "    }\n",
              "\n",
              "    [theme=dark] .colab-df-convert:hover {\n",
              "      background-color: #434B5C;\n",
              "      box-shadow: 0px 1px 3px 1px rgba(0, 0, 0, 0.15);\n",
              "      filter: drop-shadow(0px 1px 2px rgba(0, 0, 0, 0.3));\n",
              "      fill: #FFFFFF;\n",
              "    }\n",
              "  </style>\n",
              "\n",
              "      <script>\n",
              "        const buttonEl =\n",
              "          document.querySelector('#df-c6a2bce0-e35e-41c2-b5c2-57bfba5cf7b7 button.colab-df-convert');\n",
              "        buttonEl.style.display =\n",
              "          google.colab.kernel.accessAllowed ? 'block' : 'none';\n",
              "\n",
              "        async function convertToInteractive(key) {\n",
              "          const element = document.querySelector('#df-c6a2bce0-e35e-41c2-b5c2-57bfba5cf7b7');\n",
              "          const dataTable =\n",
              "            await google.colab.kernel.invokeFunction('convertToInteractive',\n",
              "                                                     [key], {});\n",
              "          if (!dataTable) return;\n",
              "\n",
              "          const docLinkHtml = 'Like what you see? Visit the ' +\n",
              "            '<a target=\"_blank\" href=https://colab.research.google.com/notebooks/data_table.ipynb>data table notebook</a>'\n",
              "            + ' to learn more about interactive tables.';\n",
              "          element.innerHTML = '';\n",
              "          dataTable['output_type'] = 'display_data';\n",
              "          await google.colab.output.renderOutput(dataTable, element);\n",
              "          const docLink = document.createElement('div');\n",
              "          docLink.innerHTML = docLinkHtml;\n",
              "          element.appendChild(docLink);\n",
              "        }\n",
              "      </script>\n",
              "    </div>\n",
              "  </div>\n",
              "  "
            ],
            "text/plain": [
              "        Date      Time  CO(GT)  PT08.S1(CO)  NMHC(GT)  C6H6(GT)  \\\n",
              "0  3/10/2004  18:00:00     2.6       1360.0     150.0      11.9   \n",
              "1  3/10/2004  19:00:00     2.0       1292.0     112.0       9.4   \n",
              "2  3/10/2004  20:00:00     2.2       1402.0      88.0       9.0   \n",
              "3  3/10/2004  21:00:00     2.2       1376.0      80.0       9.2   \n",
              "4  3/10/2004  22:00:00     1.6       1272.0      51.0       6.5   \n",
              "\n",
              "   PT08.S2(NMHC)  NOx(GT)  PT08.S3(NOx)  NO2(GT)  PT08.S4(NO2)  PT08.S5(O3)  \\\n",
              "0         1046.0    166.0        1056.0    113.0        1692.0       1268.0   \n",
              "1          955.0    103.0        1174.0     92.0        1559.0        972.0   \n",
              "2          939.0    131.0        1140.0    114.0        1555.0       1074.0   \n",
              "3          948.0    172.0        1092.0    122.0        1584.0       1203.0   \n",
              "4          836.0    131.0        1205.0    116.0        1490.0       1110.0   \n",
              "\n",
              "      T    RH      AH  \n",
              "0  13.6  48.9  0.7578  \n",
              "1  13.3  47.7  0.7255  \n",
              "2  11.9  54.0  0.7502  \n",
              "3  11.0  60.0  0.7867  \n",
              "4  11.2  59.6  0.7888  "
            ]
          },
          "execution_count": 4,
          "metadata": {},
          "output_type": "execute_result"
        }
      ],
      "source": [
        "df.head()"
      ]
    },
    {
      "cell_type": "markdown",
      "metadata": {
        "id": "TMHFhOfXuQYl"
      },
      "source": [
        "### 2- Drop unwanted labels"
      ]
    },
    {
      "cell_type": "code",
      "execution_count": 5,
      "metadata": {
        "id": "8BxLVkr2_jgW"
      },
      "outputs": [],
      "source": [
        "y = df['NO2(GT)']"
      ]
    },
    {
      "cell_type": "code",
      "execution_count": 6,
      "metadata": {
        "id": "L7395CTWuQYm"
      },
      "outputs": [],
      "source": [
        "df = df.drop(['CO(GT)','NMHC(GT)', 'C6H6(GT)', 'NOx(GT)'],axis=1)\n",
        "x = df.drop('NO2(GT)', axis=1)"
      ]
    },
    {
      "cell_type": "code",
      "execution_count": 7,
      "metadata": {
        "colab": {
          "base_uri": "https://localhost:8080/",
          "height": 424
        },
        "id": "nunCYPUH_jgX",
        "outputId": "88a29a60-0bdc-4cf2-95b3-fcec3f7fb0eb",
        "scrolled": true
      },
      "outputs": [
        {
          "data": {
            "text/html": [
              "\n",
              "  <div id=\"df-eb22ef1c-f60e-4b5c-a770-203265ef7f20\">\n",
              "    <div class=\"colab-df-container\">\n",
              "      <div>\n",
              "<style scoped>\n",
              "    .dataframe tbody tr th:only-of-type {\n",
              "        vertical-align: middle;\n",
              "    }\n",
              "\n",
              "    .dataframe tbody tr th {\n",
              "        vertical-align: top;\n",
              "    }\n",
              "\n",
              "    .dataframe thead th {\n",
              "        text-align: right;\n",
              "    }\n",
              "</style>\n",
              "<table border=\"1\" class=\"dataframe\">\n",
              "  <thead>\n",
              "    <tr style=\"text-align: right;\">\n",
              "      <th></th>\n",
              "      <th>Date</th>\n",
              "      <th>Time</th>\n",
              "      <th>PT08.S1(CO)</th>\n",
              "      <th>PT08.S2(NMHC)</th>\n",
              "      <th>PT08.S3(NOx)</th>\n",
              "      <th>PT08.S4(NO2)</th>\n",
              "      <th>PT08.S5(O3)</th>\n",
              "      <th>T</th>\n",
              "      <th>RH</th>\n",
              "      <th>AH</th>\n",
              "    </tr>\n",
              "  </thead>\n",
              "  <tbody>\n",
              "    <tr>\n",
              "      <th>0</th>\n",
              "      <td>3/10/2004</td>\n",
              "      <td>18:00:00</td>\n",
              "      <td>1360.0</td>\n",
              "      <td>1046.0</td>\n",
              "      <td>1056.0</td>\n",
              "      <td>1692.0</td>\n",
              "      <td>1268.0</td>\n",
              "      <td>13.6</td>\n",
              "      <td>48.9</td>\n",
              "      <td>0.7578</td>\n",
              "    </tr>\n",
              "    <tr>\n",
              "      <th>1</th>\n",
              "      <td>3/10/2004</td>\n",
              "      <td>19:00:00</td>\n",
              "      <td>1292.0</td>\n",
              "      <td>955.0</td>\n",
              "      <td>1174.0</td>\n",
              "      <td>1559.0</td>\n",
              "      <td>972.0</td>\n",
              "      <td>13.3</td>\n",
              "      <td>47.7</td>\n",
              "      <td>0.7255</td>\n",
              "    </tr>\n",
              "    <tr>\n",
              "      <th>2</th>\n",
              "      <td>3/10/2004</td>\n",
              "      <td>20:00:00</td>\n",
              "      <td>1402.0</td>\n",
              "      <td>939.0</td>\n",
              "      <td>1140.0</td>\n",
              "      <td>1555.0</td>\n",
              "      <td>1074.0</td>\n",
              "      <td>11.9</td>\n",
              "      <td>54.0</td>\n",
              "      <td>0.7502</td>\n",
              "    </tr>\n",
              "    <tr>\n",
              "      <th>3</th>\n",
              "      <td>3/10/2004</td>\n",
              "      <td>21:00:00</td>\n",
              "      <td>1376.0</td>\n",
              "      <td>948.0</td>\n",
              "      <td>1092.0</td>\n",
              "      <td>1584.0</td>\n",
              "      <td>1203.0</td>\n",
              "      <td>11.0</td>\n",
              "      <td>60.0</td>\n",
              "      <td>0.7867</td>\n",
              "    </tr>\n",
              "    <tr>\n",
              "      <th>4</th>\n",
              "      <td>3/10/2004</td>\n",
              "      <td>22:00:00</td>\n",
              "      <td>1272.0</td>\n",
              "      <td>836.0</td>\n",
              "      <td>1205.0</td>\n",
              "      <td>1490.0</td>\n",
              "      <td>1110.0</td>\n",
              "      <td>11.2</td>\n",
              "      <td>59.6</td>\n",
              "      <td>0.7888</td>\n",
              "    </tr>\n",
              "    <tr>\n",
              "      <th>...</th>\n",
              "      <td>...</td>\n",
              "      <td>...</td>\n",
              "      <td>...</td>\n",
              "      <td>...</td>\n",
              "      <td>...</td>\n",
              "      <td>...</td>\n",
              "      <td>...</td>\n",
              "      <td>...</td>\n",
              "      <td>...</td>\n",
              "      <td>...</td>\n",
              "    </tr>\n",
              "    <tr>\n",
              "      <th>9352</th>\n",
              "      <td>4/4/2005</td>\n",
              "      <td>10:00:00</td>\n",
              "      <td>1314.0</td>\n",
              "      <td>1101.0</td>\n",
              "      <td>539.0</td>\n",
              "      <td>1374.0</td>\n",
              "      <td>1729.0</td>\n",
              "      <td>21.9</td>\n",
              "      <td>29.3</td>\n",
              "      <td>0.7568</td>\n",
              "    </tr>\n",
              "    <tr>\n",
              "      <th>9353</th>\n",
              "      <td>4/4/2005</td>\n",
              "      <td>11:00:00</td>\n",
              "      <td>1163.0</td>\n",
              "      <td>1027.0</td>\n",
              "      <td>604.0</td>\n",
              "      <td>1264.0</td>\n",
              "      <td>1269.0</td>\n",
              "      <td>24.3</td>\n",
              "      <td>23.7</td>\n",
              "      <td>0.7119</td>\n",
              "    </tr>\n",
              "    <tr>\n",
              "      <th>9354</th>\n",
              "      <td>4/4/2005</td>\n",
              "      <td>12:00:00</td>\n",
              "      <td>1142.0</td>\n",
              "      <td>1063.0</td>\n",
              "      <td>603.0</td>\n",
              "      <td>1241.0</td>\n",
              "      <td>1092.0</td>\n",
              "      <td>26.9</td>\n",
              "      <td>18.3</td>\n",
              "      <td>0.6406</td>\n",
              "    </tr>\n",
              "    <tr>\n",
              "      <th>9355</th>\n",
              "      <td>4/4/2005</td>\n",
              "      <td>13:00:00</td>\n",
              "      <td>1003.0</td>\n",
              "      <td>961.0</td>\n",
              "      <td>702.0</td>\n",
              "      <td>1041.0</td>\n",
              "      <td>770.0</td>\n",
              "      <td>28.3</td>\n",
              "      <td>13.5</td>\n",
              "      <td>0.5139</td>\n",
              "    </tr>\n",
              "    <tr>\n",
              "      <th>9356</th>\n",
              "      <td>4/4/2005</td>\n",
              "      <td>14:00:00</td>\n",
              "      <td>1071.0</td>\n",
              "      <td>1047.0</td>\n",
              "      <td>654.0</td>\n",
              "      <td>1129.0</td>\n",
              "      <td>816.0</td>\n",
              "      <td>28.5</td>\n",
              "      <td>13.1</td>\n",
              "      <td>0.5028</td>\n",
              "    </tr>\n",
              "  </tbody>\n",
              "</table>\n",
              "<p>9357 rows × 10 columns</p>\n",
              "</div>\n",
              "      <button class=\"colab-df-convert\" onclick=\"convertToInteractive('df-eb22ef1c-f60e-4b5c-a770-203265ef7f20')\"\n",
              "              title=\"Convert this dataframe to an interactive table.\"\n",
              "              style=\"display:none;\">\n",
              "        \n",
              "  <svg xmlns=\"http://www.w3.org/2000/svg\" height=\"24px\"viewBox=\"0 0 24 24\"\n",
              "       width=\"24px\">\n",
              "    <path d=\"M0 0h24v24H0V0z\" fill=\"none\"/>\n",
              "    <path d=\"M18.56 5.44l.94 2.06.94-2.06 2.06-.94-2.06-.94-.94-2.06-.94 2.06-2.06.94zm-11 1L8.5 8.5l.94-2.06 2.06-.94-2.06-.94L8.5 2.5l-.94 2.06-2.06.94zm10 10l.94 2.06.94-2.06 2.06-.94-2.06-.94-.94-2.06-.94 2.06-2.06.94z\"/><path d=\"M17.41 7.96l-1.37-1.37c-.4-.4-.92-.59-1.43-.59-.52 0-1.04.2-1.43.59L10.3 9.45l-7.72 7.72c-.78.78-.78 2.05 0 2.83L4 21.41c.39.39.9.59 1.41.59.51 0 1.02-.2 1.41-.59l7.78-7.78 2.81-2.81c.8-.78.8-2.07 0-2.86zM5.41 20L4 18.59l7.72-7.72 1.47 1.35L5.41 20z\"/>\n",
              "  </svg>\n",
              "      </button>\n",
              "      \n",
              "  <style>\n",
              "    .colab-df-container {\n",
              "      display:flex;\n",
              "      flex-wrap:wrap;\n",
              "      gap: 12px;\n",
              "    }\n",
              "\n",
              "    .colab-df-convert {\n",
              "      background-color: #E8F0FE;\n",
              "      border: none;\n",
              "      border-radius: 50%;\n",
              "      cursor: pointer;\n",
              "      display: none;\n",
              "      fill: #1967D2;\n",
              "      height: 32px;\n",
              "      padding: 0 0 0 0;\n",
              "      width: 32px;\n",
              "    }\n",
              "\n",
              "    .colab-df-convert:hover {\n",
              "      background-color: #E2EBFA;\n",
              "      box-shadow: 0px 1px 2px rgba(60, 64, 67, 0.3), 0px 1px 3px 1px rgba(60, 64, 67, 0.15);\n",
              "      fill: #174EA6;\n",
              "    }\n",
              "\n",
              "    [theme=dark] .colab-df-convert {\n",
              "      background-color: #3B4455;\n",
              "      fill: #D2E3FC;\n",
              "    }\n",
              "\n",
              "    [theme=dark] .colab-df-convert:hover {\n",
              "      background-color: #434B5C;\n",
              "      box-shadow: 0px 1px 3px 1px rgba(0, 0, 0, 0.15);\n",
              "      filter: drop-shadow(0px 1px 2px rgba(0, 0, 0, 0.3));\n",
              "      fill: #FFFFFF;\n",
              "    }\n",
              "  </style>\n",
              "\n",
              "      <script>\n",
              "        const buttonEl =\n",
              "          document.querySelector('#df-eb22ef1c-f60e-4b5c-a770-203265ef7f20 button.colab-df-convert');\n",
              "        buttonEl.style.display =\n",
              "          google.colab.kernel.accessAllowed ? 'block' : 'none';\n",
              "\n",
              "        async function convertToInteractive(key) {\n",
              "          const element = document.querySelector('#df-eb22ef1c-f60e-4b5c-a770-203265ef7f20');\n",
              "          const dataTable =\n",
              "            await google.colab.kernel.invokeFunction('convertToInteractive',\n",
              "                                                     [key], {});\n",
              "          if (!dataTable) return;\n",
              "\n",
              "          const docLinkHtml = 'Like what you see? Visit the ' +\n",
              "            '<a target=\"_blank\" href=https://colab.research.google.com/notebooks/data_table.ipynb>data table notebook</a>'\n",
              "            + ' to learn more about interactive tables.';\n",
              "          element.innerHTML = '';\n",
              "          dataTable['output_type'] = 'display_data';\n",
              "          await google.colab.output.renderOutput(dataTable, element);\n",
              "          const docLink = document.createElement('div');\n",
              "          docLink.innerHTML = docLinkHtml;\n",
              "          element.appendChild(docLink);\n",
              "        }\n",
              "      </script>\n",
              "    </div>\n",
              "  </div>\n",
              "  "
            ],
            "text/plain": [
              "           Date      Time  PT08.S1(CO)  PT08.S2(NMHC)  PT08.S3(NOx)  \\\n",
              "0     3/10/2004  18:00:00       1360.0         1046.0        1056.0   \n",
              "1     3/10/2004  19:00:00       1292.0          955.0        1174.0   \n",
              "2     3/10/2004  20:00:00       1402.0          939.0        1140.0   \n",
              "3     3/10/2004  21:00:00       1376.0          948.0        1092.0   \n",
              "4     3/10/2004  22:00:00       1272.0          836.0        1205.0   \n",
              "...         ...       ...          ...            ...           ...   \n",
              "9352   4/4/2005  10:00:00       1314.0         1101.0         539.0   \n",
              "9353   4/4/2005  11:00:00       1163.0         1027.0         604.0   \n",
              "9354   4/4/2005  12:00:00       1142.0         1063.0         603.0   \n",
              "9355   4/4/2005  13:00:00       1003.0          961.0         702.0   \n",
              "9356   4/4/2005  14:00:00       1071.0         1047.0         654.0   \n",
              "\n",
              "      PT08.S4(NO2)  PT08.S5(O3)     T    RH      AH  \n",
              "0           1692.0       1268.0  13.6  48.9  0.7578  \n",
              "1           1559.0        972.0  13.3  47.7  0.7255  \n",
              "2           1555.0       1074.0  11.9  54.0  0.7502  \n",
              "3           1584.0       1203.0  11.0  60.0  0.7867  \n",
              "4           1490.0       1110.0  11.2  59.6  0.7888  \n",
              "...            ...          ...   ...   ...     ...  \n",
              "9352        1374.0       1729.0  21.9  29.3  0.7568  \n",
              "9353        1264.0       1269.0  24.3  23.7  0.7119  \n",
              "9354        1241.0       1092.0  26.9  18.3  0.6406  \n",
              "9355        1041.0        770.0  28.3  13.5  0.5139  \n",
              "9356        1129.0        816.0  28.5  13.1  0.5028  \n",
              "\n",
              "[9357 rows x 10 columns]"
            ]
          },
          "execution_count": 7,
          "metadata": {},
          "output_type": "execute_result"
        }
      ],
      "source": [
        "x"
      ]
    },
    {
      "cell_type": "code",
      "execution_count": 8,
      "metadata": {
        "colab": {
          "base_uri": "https://localhost:8080/"
        },
        "id": "wON647uT_jgX",
        "outputId": "73eed5c4-d0a5-4b42-ee78-e6b3b8d81255"
      },
      "outputs": [
        {
          "data": {
            "text/plain": [
              "0       113.0\n",
              "1        92.0\n",
              "2       114.0\n",
              "3       122.0\n",
              "4       116.0\n",
              "        ...  \n",
              "9352    190.0\n",
              "9353    179.0\n",
              "9354    175.0\n",
              "9355    156.0\n",
              "9356    168.0\n",
              "Name: NO2(GT), Length: 9357, dtype: float64"
            ]
          },
          "execution_count": 8,
          "metadata": {},
          "output_type": "execute_result"
        }
      ],
      "source": [
        "y"
      ]
    },
    {
      "cell_type": "markdown",
      "metadata": {
        "id": "rMSYDzn1uQYm"
      },
      "source": [
        "### 3- Handle missing data"
      ]
    },
    {
      "cell_type": "code",
      "execution_count": 9,
      "metadata": {
        "colab": {
          "base_uri": "https://localhost:8080/",
          "height": 424
        },
        "id": "FEai7yH9uQYn",
        "outputId": "c43122dd-a115-4433-9aed-db8f044526b8",
        "scrolled": true
      },
      "outputs": [
        {
          "data": {
            "text/html": [
              "\n",
              "  <div id=\"df-e143c60e-877c-48b8-afc1-998d3986f5b2\">\n",
              "    <div class=\"colab-df-container\">\n",
              "      <div>\n",
              "<style scoped>\n",
              "    .dataframe tbody tr th:only-of-type {\n",
              "        vertical-align: middle;\n",
              "    }\n",
              "\n",
              "    .dataframe tbody tr th {\n",
              "        vertical-align: top;\n",
              "    }\n",
              "\n",
              "    .dataframe thead th {\n",
              "        text-align: right;\n",
              "    }\n",
              "</style>\n",
              "<table border=\"1\" class=\"dataframe\">\n",
              "  <thead>\n",
              "    <tr style=\"text-align: right;\">\n",
              "      <th></th>\n",
              "      <th>Date</th>\n",
              "      <th>Time</th>\n",
              "      <th>PT08.S1(CO)</th>\n",
              "      <th>PT08.S2(NMHC)</th>\n",
              "      <th>PT08.S3(NOx)</th>\n",
              "      <th>NO2(GT)</th>\n",
              "      <th>PT08.S4(NO2)</th>\n",
              "      <th>PT08.S5(O3)</th>\n",
              "      <th>T</th>\n",
              "      <th>RH</th>\n",
              "      <th>AH</th>\n",
              "    </tr>\n",
              "  </thead>\n",
              "  <tbody>\n",
              "    <tr>\n",
              "      <th>0</th>\n",
              "      <td>False</td>\n",
              "      <td>False</td>\n",
              "      <td>False</td>\n",
              "      <td>False</td>\n",
              "      <td>False</td>\n",
              "      <td>False</td>\n",
              "      <td>False</td>\n",
              "      <td>False</td>\n",
              "      <td>False</td>\n",
              "      <td>False</td>\n",
              "      <td>False</td>\n",
              "    </tr>\n",
              "    <tr>\n",
              "      <th>1</th>\n",
              "      <td>False</td>\n",
              "      <td>False</td>\n",
              "      <td>False</td>\n",
              "      <td>False</td>\n",
              "      <td>False</td>\n",
              "      <td>False</td>\n",
              "      <td>False</td>\n",
              "      <td>False</td>\n",
              "      <td>False</td>\n",
              "      <td>False</td>\n",
              "      <td>False</td>\n",
              "    </tr>\n",
              "    <tr>\n",
              "      <th>2</th>\n",
              "      <td>False</td>\n",
              "      <td>False</td>\n",
              "      <td>False</td>\n",
              "      <td>False</td>\n",
              "      <td>False</td>\n",
              "      <td>False</td>\n",
              "      <td>False</td>\n",
              "      <td>False</td>\n",
              "      <td>False</td>\n",
              "      <td>False</td>\n",
              "      <td>False</td>\n",
              "    </tr>\n",
              "    <tr>\n",
              "      <th>3</th>\n",
              "      <td>False</td>\n",
              "      <td>False</td>\n",
              "      <td>False</td>\n",
              "      <td>False</td>\n",
              "      <td>False</td>\n",
              "      <td>False</td>\n",
              "      <td>False</td>\n",
              "      <td>False</td>\n",
              "      <td>False</td>\n",
              "      <td>False</td>\n",
              "      <td>False</td>\n",
              "    </tr>\n",
              "    <tr>\n",
              "      <th>4</th>\n",
              "      <td>False</td>\n",
              "      <td>False</td>\n",
              "      <td>False</td>\n",
              "      <td>False</td>\n",
              "      <td>False</td>\n",
              "      <td>False</td>\n",
              "      <td>False</td>\n",
              "      <td>False</td>\n",
              "      <td>False</td>\n",
              "      <td>False</td>\n",
              "      <td>False</td>\n",
              "    </tr>\n",
              "    <tr>\n",
              "      <th>...</th>\n",
              "      <td>...</td>\n",
              "      <td>...</td>\n",
              "      <td>...</td>\n",
              "      <td>...</td>\n",
              "      <td>...</td>\n",
              "      <td>...</td>\n",
              "      <td>...</td>\n",
              "      <td>...</td>\n",
              "      <td>...</td>\n",
              "      <td>...</td>\n",
              "      <td>...</td>\n",
              "    </tr>\n",
              "    <tr>\n",
              "      <th>9352</th>\n",
              "      <td>False</td>\n",
              "      <td>False</td>\n",
              "      <td>False</td>\n",
              "      <td>False</td>\n",
              "      <td>False</td>\n",
              "      <td>False</td>\n",
              "      <td>False</td>\n",
              "      <td>False</td>\n",
              "      <td>False</td>\n",
              "      <td>False</td>\n",
              "      <td>False</td>\n",
              "    </tr>\n",
              "    <tr>\n",
              "      <th>9353</th>\n",
              "      <td>False</td>\n",
              "      <td>False</td>\n",
              "      <td>False</td>\n",
              "      <td>False</td>\n",
              "      <td>False</td>\n",
              "      <td>False</td>\n",
              "      <td>False</td>\n",
              "      <td>False</td>\n",
              "      <td>False</td>\n",
              "      <td>False</td>\n",
              "      <td>False</td>\n",
              "    </tr>\n",
              "    <tr>\n",
              "      <th>9354</th>\n",
              "      <td>False</td>\n",
              "      <td>False</td>\n",
              "      <td>False</td>\n",
              "      <td>False</td>\n",
              "      <td>False</td>\n",
              "      <td>False</td>\n",
              "      <td>False</td>\n",
              "      <td>False</td>\n",
              "      <td>False</td>\n",
              "      <td>False</td>\n",
              "      <td>False</td>\n",
              "    </tr>\n",
              "    <tr>\n",
              "      <th>9355</th>\n",
              "      <td>False</td>\n",
              "      <td>False</td>\n",
              "      <td>False</td>\n",
              "      <td>False</td>\n",
              "      <td>False</td>\n",
              "      <td>False</td>\n",
              "      <td>False</td>\n",
              "      <td>False</td>\n",
              "      <td>False</td>\n",
              "      <td>False</td>\n",
              "      <td>False</td>\n",
              "    </tr>\n",
              "    <tr>\n",
              "      <th>9356</th>\n",
              "      <td>False</td>\n",
              "      <td>False</td>\n",
              "      <td>False</td>\n",
              "      <td>False</td>\n",
              "      <td>False</td>\n",
              "      <td>False</td>\n",
              "      <td>False</td>\n",
              "      <td>False</td>\n",
              "      <td>False</td>\n",
              "      <td>False</td>\n",
              "      <td>False</td>\n",
              "    </tr>\n",
              "  </tbody>\n",
              "</table>\n",
              "<p>9357 rows × 11 columns</p>\n",
              "</div>\n",
              "      <button class=\"colab-df-convert\" onclick=\"convertToInteractive('df-e143c60e-877c-48b8-afc1-998d3986f5b2')\"\n",
              "              title=\"Convert this dataframe to an interactive table.\"\n",
              "              style=\"display:none;\">\n",
              "        \n",
              "  <svg xmlns=\"http://www.w3.org/2000/svg\" height=\"24px\"viewBox=\"0 0 24 24\"\n",
              "       width=\"24px\">\n",
              "    <path d=\"M0 0h24v24H0V0z\" fill=\"none\"/>\n",
              "    <path d=\"M18.56 5.44l.94 2.06.94-2.06 2.06-.94-2.06-.94-.94-2.06-.94 2.06-2.06.94zm-11 1L8.5 8.5l.94-2.06 2.06-.94-2.06-.94L8.5 2.5l-.94 2.06-2.06.94zm10 10l.94 2.06.94-2.06 2.06-.94-2.06-.94-.94-2.06-.94 2.06-2.06.94z\"/><path d=\"M17.41 7.96l-1.37-1.37c-.4-.4-.92-.59-1.43-.59-.52 0-1.04.2-1.43.59L10.3 9.45l-7.72 7.72c-.78.78-.78 2.05 0 2.83L4 21.41c.39.39.9.59 1.41.59.51 0 1.02-.2 1.41-.59l7.78-7.78 2.81-2.81c.8-.78.8-2.07 0-2.86zM5.41 20L4 18.59l7.72-7.72 1.47 1.35L5.41 20z\"/>\n",
              "  </svg>\n",
              "      </button>\n",
              "      \n",
              "  <style>\n",
              "    .colab-df-container {\n",
              "      display:flex;\n",
              "      flex-wrap:wrap;\n",
              "      gap: 12px;\n",
              "    }\n",
              "\n",
              "    .colab-df-convert {\n",
              "      background-color: #E8F0FE;\n",
              "      border: none;\n",
              "      border-radius: 50%;\n",
              "      cursor: pointer;\n",
              "      display: none;\n",
              "      fill: #1967D2;\n",
              "      height: 32px;\n",
              "      padding: 0 0 0 0;\n",
              "      width: 32px;\n",
              "    }\n",
              "\n",
              "    .colab-df-convert:hover {\n",
              "      background-color: #E2EBFA;\n",
              "      box-shadow: 0px 1px 2px rgba(60, 64, 67, 0.3), 0px 1px 3px 1px rgba(60, 64, 67, 0.15);\n",
              "      fill: #174EA6;\n",
              "    }\n",
              "\n",
              "    [theme=dark] .colab-df-convert {\n",
              "      background-color: #3B4455;\n",
              "      fill: #D2E3FC;\n",
              "    }\n",
              "\n",
              "    [theme=dark] .colab-df-convert:hover {\n",
              "      background-color: #434B5C;\n",
              "      box-shadow: 0px 1px 3px 1px rgba(0, 0, 0, 0.15);\n",
              "      filter: drop-shadow(0px 1px 2px rgba(0, 0, 0, 0.3));\n",
              "      fill: #FFFFFF;\n",
              "    }\n",
              "  </style>\n",
              "\n",
              "      <script>\n",
              "        const buttonEl =\n",
              "          document.querySelector('#df-e143c60e-877c-48b8-afc1-998d3986f5b2 button.colab-df-convert');\n",
              "        buttonEl.style.display =\n",
              "          google.colab.kernel.accessAllowed ? 'block' : 'none';\n",
              "\n",
              "        async function convertToInteractive(key) {\n",
              "          const element = document.querySelector('#df-e143c60e-877c-48b8-afc1-998d3986f5b2');\n",
              "          const dataTable =\n",
              "            await google.colab.kernel.invokeFunction('convertToInteractive',\n",
              "                                                     [key], {});\n",
              "          if (!dataTable) return;\n",
              "\n",
              "          const docLinkHtml = 'Like what you see? Visit the ' +\n",
              "            '<a target=\"_blank\" href=https://colab.research.google.com/notebooks/data_table.ipynb>data table notebook</a>'\n",
              "            + ' to learn more about interactive tables.';\n",
              "          element.innerHTML = '';\n",
              "          dataTable['output_type'] = 'display_data';\n",
              "          await google.colab.output.renderOutput(dataTable, element);\n",
              "          const docLink = document.createElement('div');\n",
              "          docLink.innerHTML = docLinkHtml;\n",
              "          element.appendChild(docLink);\n",
              "        }\n",
              "      </script>\n",
              "    </div>\n",
              "  </div>\n",
              "  "
            ],
            "text/plain": [
              "       Date   Time  PT08.S1(CO)  PT08.S2(NMHC)  PT08.S3(NOx)  NO2(GT)  \\\n",
              "0     False  False        False          False         False    False   \n",
              "1     False  False        False          False         False    False   \n",
              "2     False  False        False          False         False    False   \n",
              "3     False  False        False          False         False    False   \n",
              "4     False  False        False          False         False    False   \n",
              "...     ...    ...          ...            ...           ...      ...   \n",
              "9352  False  False        False          False         False    False   \n",
              "9353  False  False        False          False         False    False   \n",
              "9354  False  False        False          False         False    False   \n",
              "9355  False  False        False          False         False    False   \n",
              "9356  False  False        False          False         False    False   \n",
              "\n",
              "      PT08.S4(NO2)  PT08.S5(O3)      T     RH     AH  \n",
              "0            False        False  False  False  False  \n",
              "1            False        False  False  False  False  \n",
              "2            False        False  False  False  False  \n",
              "3            False        False  False  False  False  \n",
              "4            False        False  False  False  False  \n",
              "...            ...          ...    ...    ...    ...  \n",
              "9352         False        False  False  False  False  \n",
              "9353         False        False  False  False  False  \n",
              "9354         False        False  False  False  False  \n",
              "9355         False        False  False  False  False  \n",
              "9356         False        False  False  False  False  \n",
              "\n",
              "[9357 rows x 11 columns]"
            ]
          },
          "execution_count": 9,
          "metadata": {},
          "output_type": "execute_result"
        }
      ],
      "source": [
        "df.isnull()"
      ]
    },
    {
      "cell_type": "code",
      "execution_count": 10,
      "metadata": {
        "colab": {
          "base_uri": "https://localhost:8080/"
        },
        "id": "4P0pRPsl_jgX",
        "outputId": "b4b9836b-6353-42d3-9849-45c1f5d3ae23",
        "scrolled": false
      },
      "outputs": [
        {
          "data": {
            "text/plain": [
              "Date                0\n",
              "Time                0\n",
              "PT08.S1(CO)       366\n",
              "PT08.S2(NMHC)     366\n",
              "PT08.S3(NOx)      366\n",
              "NO2(GT)          1642\n",
              "PT08.S4(NO2)      366\n",
              "PT08.S5(O3)       366\n",
              "T                 366\n",
              "RH                366\n",
              "AH                366\n",
              "dtype: int64"
            ]
          },
          "execution_count": 10,
          "metadata": {},
          "output_type": "execute_result"
        }
      ],
      "source": [
        "df.isnull().sum()"
      ]
    },
    {
      "cell_type": "code",
      "execution_count": 11,
      "metadata": {
        "colab": {
          "base_uri": "https://localhost:8080/"
        },
        "id": "1QMHCx94_jgX",
        "outputId": "61f31c36-a0ff-45b8-acc4-c455e7500d76"
      },
      "outputs": [
        {
          "data": {
            "text/plain": [
              "Date              0.00000\n",
              "Time              0.00000\n",
              "PT08.S1(CO)       3.91151\n",
              "PT08.S2(NMHC)     3.91151\n",
              "PT08.S3(NOx)      3.91151\n",
              "NO2(GT)          17.54836\n",
              "PT08.S4(NO2)      3.91151\n",
              "PT08.S5(O3)       3.91151\n",
              "T                 3.91151\n",
              "RH                3.91151\n",
              "AH                3.91151\n",
              "dtype: float64"
            ]
          },
          "execution_count": 11,
          "metadata": {},
          "output_type": "execute_result"
        }
      ],
      "source": [
        "100* df.isnull().sum() / len(df)"
      ]
    },
    {
      "cell_type": "code",
      "execution_count": 12,
      "metadata": {
        "id": "0DYK6AvW_jgY"
      },
      "outputs": [],
      "source": [
        "def percent_missing(df):\n",
        "    percent_nan = 100* df.isnull().sum() / len(df)\n",
        "    percent_nan = percent_nan[percent_nan>0].sort_values()\n",
        "    return percent_nan"
      ]
    },
    {
      "cell_type": "code",
      "execution_count": 13,
      "metadata": {
        "id": "0oGHVwEj_jgY"
      },
      "outputs": [],
      "source": [
        "percent_nan = percent_missing(df)"
      ]
    },
    {
      "cell_type": "code",
      "execution_count": 14,
      "metadata": {
        "colab": {
          "base_uri": "https://localhost:8080/"
        },
        "id": "sdN7SfIU_jgY",
        "outputId": "d1704af8-2c34-4621-f793-e3e2623af7a5"
      },
      "outputs": [
        {
          "data": {
            "text/plain": [
              "PT08.S1(CO)       3.91151\n",
              "PT08.S2(NMHC)     3.91151\n",
              "PT08.S3(NOx)      3.91151\n",
              "PT08.S4(NO2)      3.91151\n",
              "PT08.S5(O3)       3.91151\n",
              "T                 3.91151\n",
              "RH                3.91151\n",
              "AH                3.91151\n",
              "NO2(GT)          17.54836\n",
              "dtype: float64"
            ]
          },
          "execution_count": 14,
          "metadata": {},
          "output_type": "execute_result"
        }
      ],
      "source": [
        "percent_nan"
      ]
    },
    {
      "cell_type": "code",
      "execution_count": 15,
      "metadata": {
        "colab": {
          "base_uri": "https://localhost:8080/",
          "height": 334
        },
        "id": "Me4cejHJ_jgY",
        "outputId": "3fe1cc7b-9500-466b-9449-c33bc23cd81d"
      },
      "outputs": [
        {
          "data": {
            "image/png": "[encoded data removed]",
            "text/plain": [
              "<Figure size 432x288 with 1 Axes>"
            ]
          },
          "metadata": {
            "needs_background": "light"
          },
          "output_type": "display_data"
        }
      ],
      "source": [
        "sns.barplot(x=percent_nan.index,y=percent_nan)\n",
        "plt.xticks(rotation=90);"
      ]
    },
    {
      "cell_type": "code",
      "execution_count": 16,
      "metadata": {
        "colab": {
          "base_uri": "https://localhost:8080/",
          "height": 356
        },
        "id": "05sib3yW_jgY",
        "outputId": "f5b82d40-b554-4ba2-aba1-beeb9080b433"
      },
      "outputs": [
        {
          "data": {
            "text/plain": [
              "(0.0, 5.0)"
            ]
          },
          "execution_count": 16,
          "metadata": {},
          "output_type": "execute_result"
        },
        {
          "data": {
            "image/png": "[encoded data removed]",
            "text/plain": [
              "<Figure size 432x288 with 1 Axes>"
            ]
          },
          "metadata": {
            "needs_background": "light"
          },
          "output_type": "display_data"
        }
      ],
      "source": [
        "sns.barplot(x=percent_nan.index,y=percent_nan)\n",
        "plt.xticks(rotation=90);\n",
        "\n",
        "# Set 1% Threshold\n",
        "plt.ylim(0,5)\n"
      ]
    },
    {
      "cell_type": "code",
      "execution_count": 17,
      "metadata": {
        "id": "1yCnQBto_jgZ"
      },
      "outputs": [],
      "source": [
        "### No features was removed because all features have the same null values percentage\n",
        "### The highest null values appeared in the NO2 (OUTPUT), thus it cannot be removed "
      ]
    },
    {
      "cell_type": "code",
      "execution_count": 18,
      "metadata": {
        "id": "_pp3JZ6M_jgZ"
      },
      "outputs": [],
      "source": [
        "### So the null values should be replaced or dropped"
      ]
    },
    {
      "cell_type": "code",
      "execution_count": 17,
      "metadata": {
        "id": "pETIyRFl_jgZ"
      },
      "outputs": [],
      "source": [
        "df = df.dropna(axis=0,subset= ['NO2(GT)'])"
      ]
    },
    {
      "cell_type": "code",
      "execution_count": 18,
      "metadata": {
        "id": "SBPwmMW4_jgZ"
      },
      "outputs": [],
      "source": [
        "percent_nan = percent_missing(df)"
      ]
    },
    {
      "cell_type": "code",
      "execution_count": 19,
      "metadata": {
        "colab": {
          "base_uri": "https://localhost:8080/",
          "height": 424
        },
        "id": "9N4nN8qt_jgZ",
        "outputId": "3fd5ca3e-c155-4312-c210-216de688bb19"
      },
      "outputs": [
        {
          "data": {
            "text/html": [
              "\n",
              "  <div id=\"df-299269de-75a2-43b4-bedf-38db9954a7be\">\n",
              "    <div class=\"colab-df-container\">\n",
              "      <div>\n",
              "<style scoped>\n",
              "    .dataframe tbody tr th:only-of-type {\n",
              "        vertical-align: middle;\n",
              "    }\n",
              "\n",
              "    .dataframe tbody tr th {\n",
              "        vertical-align: top;\n",
              "    }\n",
              "\n",
              "    .dataframe thead th {\n",
              "        text-align: right;\n",
              "    }\n",
              "</style>\n",
              "<table border=\"1\" class=\"dataframe\">\n",
              "  <thead>\n",
              "    <tr style=\"text-align: right;\">\n",
              "      <th></th>\n",
              "      <th>Date</th>\n",
              "      <th>Time</th>\n",
              "      <th>PT08.S1(CO)</th>\n",
              "      <th>PT08.S2(NMHC)</th>\n",
              "      <th>PT08.S3(NOx)</th>\n",
              "      <th>NO2(GT)</th>\n",
              "      <th>PT08.S4(NO2)</th>\n",
              "      <th>PT08.S5(O3)</th>\n",
              "      <th>T</th>\n",
              "      <th>RH</th>\n",
              "      <th>AH</th>\n",
              "    </tr>\n",
              "  </thead>\n",
              "  <tbody>\n",
              "    <tr>\n",
              "      <th>0</th>\n",
              "      <td>3/10/2004</td>\n",
              "      <td>18:00:00</td>\n",
              "      <td>1360.0</td>\n",
              "      <td>1046.0</td>\n",
              "      <td>1056.0</td>\n",
              "      <td>113.0</td>\n",
              "      <td>1692.0</td>\n",
              "      <td>1268.0</td>\n",
              "      <td>13.6</td>\n",
              "      <td>48.9</td>\n",
              "      <td>0.7578</td>\n",
              "    </tr>\n",
              "    <tr>\n",
              "      <th>1</th>\n",
              "      <td>3/10/2004</td>\n",
              "      <td>19:00:00</td>\n",
              "      <td>1292.0</td>\n",
              "      <td>955.0</td>\n",
              "      <td>1174.0</td>\n",
              "      <td>92.0</td>\n",
              "      <td>1559.0</td>\n",
              "      <td>972.0</td>\n",
              "      <td>13.3</td>\n",
              "      <td>47.7</td>\n",
              "      <td>0.7255</td>\n",
              "    </tr>\n",
              "    <tr>\n",
              "      <th>2</th>\n",
              "      <td>3/10/2004</td>\n",
              "      <td>20:00:00</td>\n",
              "      <td>1402.0</td>\n",
              "      <td>939.0</td>\n",
              "      <td>1140.0</td>\n",
              "      <td>114.0</td>\n",
              "      <td>1555.0</td>\n",
              "      <td>1074.0</td>\n",
              "      <td>11.9</td>\n",
              "      <td>54.0</td>\n",
              "      <td>0.7502</td>\n",
              "    </tr>\n",
              "    <tr>\n",
              "      <th>3</th>\n",
              "      <td>3/10/2004</td>\n",
              "      <td>21:00:00</td>\n",
              "      <td>1376.0</td>\n",
              "      <td>948.0</td>\n",
              "      <td>1092.0</td>\n",
              "      <td>122.0</td>\n",
              "      <td>1584.0</td>\n",
              "      <td>1203.0</td>\n",
              "      <td>11.0</td>\n",
              "      <td>60.0</td>\n",
              "      <td>0.7867</td>\n",
              "    </tr>\n",
              "    <tr>\n",
              "      <th>4</th>\n",
              "      <td>3/10/2004</td>\n",
              "      <td>22:00:00</td>\n",
              "      <td>1272.0</td>\n",
              "      <td>836.0</td>\n",
              "      <td>1205.0</td>\n",
              "      <td>116.0</td>\n",
              "      <td>1490.0</td>\n",
              "      <td>1110.0</td>\n",
              "      <td>11.2</td>\n",
              "      <td>59.6</td>\n",
              "      <td>0.7888</td>\n",
              "    </tr>\n",
              "    <tr>\n",
              "      <th>...</th>\n",
              "      <td>...</td>\n",
              "      <td>...</td>\n",
              "      <td>...</td>\n",
              "      <td>...</td>\n",
              "      <td>...</td>\n",
              "      <td>...</td>\n",
              "      <td>...</td>\n",
              "      <td>...</td>\n",
              "      <td>...</td>\n",
              "      <td>...</td>\n",
              "      <td>...</td>\n",
              "    </tr>\n",
              "    <tr>\n",
              "      <th>9352</th>\n",
              "      <td>4/4/2005</td>\n",
              "      <td>10:00:00</td>\n",
              "      <td>1314.0</td>\n",
              "      <td>1101.0</td>\n",
              "      <td>539.0</td>\n",
              "      <td>190.0</td>\n",
              "      <td>1374.0</td>\n",
              "      <td>1729.0</td>\n",
              "      <td>21.9</td>\n",
              "      <td>29.3</td>\n",
              "      <td>0.7568</td>\n",
              "    </tr>\n",
              "    <tr>\n",
              "      <th>9353</th>\n",
              "      <td>4/4/2005</td>\n",
              "      <td>11:00:00</td>\n",
              "      <td>1163.0</td>\n",
              "      <td>1027.0</td>\n",
              "      <td>604.0</td>\n",
              "      <td>179.0</td>\n",
              "      <td>1264.0</td>\n",
              "      <td>1269.0</td>\n",
              "      <td>24.3</td>\n",
              "      <td>23.7</td>\n",
              "      <td>0.7119</td>\n",
              "    </tr>\n",
              "    <tr>\n",
              "      <th>9354</th>\n",
              "      <td>4/4/2005</td>\n",
              "      <td>12:00:00</td>\n",
              "      <td>1142.0</td>\n",
              "      <td>1063.0</td>\n",
              "      <td>603.0</td>\n",
              "      <td>175.0</td>\n",
              "      <td>1241.0</td>\n",
              "      <td>1092.0</td>\n",
              "      <td>26.9</td>\n",
              "      <td>18.3</td>\n",
              "      <td>0.6406</td>\n",
              "    </tr>\n",
              "    <tr>\n",
              "      <th>9355</th>\n",
              "      <td>4/4/2005</td>\n",
              "      <td>13:00:00</td>\n",
              "      <td>1003.0</td>\n",
              "      <td>961.0</td>\n",
              "      <td>702.0</td>\n",
              "      <td>156.0</td>\n",
              "      <td>1041.0</td>\n",
              "      <td>770.0</td>\n",
              "      <td>28.3</td>\n",
              "      <td>13.5</td>\n",
              "      <td>0.5139</td>\n",
              "    </tr>\n",
              "    <tr>\n",
              "      <th>9356</th>\n",
              "      <td>4/4/2005</td>\n",
              "      <td>14:00:00</td>\n",
              "      <td>1071.0</td>\n",
              "      <td>1047.0</td>\n",
              "      <td>654.0</td>\n",
              "      <td>168.0</td>\n",
              "      <td>1129.0</td>\n",
              "      <td>816.0</td>\n",
              "      <td>28.5</td>\n",
              "      <td>13.1</td>\n",
              "      <td>0.5028</td>\n",
              "    </tr>\n",
              "  </tbody>\n",
              "</table>\n",
              "<p>7715 rows × 11 columns</p>\n",
              "</div>\n",
              "      <button class=\"colab-df-convert\" onclick=\"convertToInteractive('df-299269de-75a2-43b4-bedf-38db9954a7be')\"\n",
              "              title=\"Convert this dataframe to an interactive table.\"\n",
              "              style=\"display:none;\">\n",
              "        \n",
              "  <svg xmlns=\"http://www.w3.org/2000/svg\" height=\"24px\"viewBox=\"0 0 24 24\"\n",
              "       width=\"24px\">\n",
              "    <path d=\"M0 0h24v24H0V0z\" fill=\"none\"/>\n",
              "    <path d=\"M18.56 5.44l.94 2.06.94-2.06 2.06-.94-2.06-.94-.94-2.06-.94 2.06-2.06.94zm-11 1L8.5 8.5l.94-2.06 2.06-.94-2.06-.94L8.5 2.5l-.94 2.06-2.06.94zm10 10l.94 2.06.94-2.06 2.06-.94-2.06-.94-.94-2.06-.94 2.06-2.06.94z\"/><path d=\"M17.41 7.96l-1.37-1.37c-.4-.4-.92-.59-1.43-.59-.52 0-1.04.2-1.43.59L10.3 9.45l-7.72 7.72c-.78.78-.78 2.05 0 2.83L4 21.41c.39.39.9.59 1.41.59.51 0 1.02-.2 1.41-.59l7.78-7.78 2.81-2.81c.8-.78.8-2.07 0-2.86zM5.41 20L4 18.59l7.72-7.72 1.47 1.35L5.41 20z\"/>\n",
              "  </svg>\n",
              "      </button>\n",
              "      \n",
              "  <style>\n",
              "    .colab-df-container {\n",
              "      display:flex;\n",
              "      flex-wrap:wrap;\n",
              "      gap: 12px;\n",
              "    }\n",
              "\n",
              "    .colab-df-convert {\n",
              "      background-color: #E8F0FE;\n",
              "      border: none;\n",
              "      border-radius: 50%;\n",
              "      cursor: pointer;\n",
              "      display: none;\n",
              "      fill: #1967D2;\n",
              "      height: 32px;\n",
              "      padding: 0 0 0 0;\n",
              "      width: 32px;\n",
              "    }\n",
              "\n",
              "    .colab-df-convert:hover {\n",
              "      background-color: #E2EBFA;\n",
              "      box-shadow: 0px 1px 2px rgba(60, 64, 67, 0.3), 0px 1px 3px 1px rgba(60, 64, 67, 0.15);\n",
              "      fill: #174EA6;\n",
              "    }\n",
              "\n",
              "    [theme=dark] .colab-df-convert {\n",
              "      background-color: #3B4455;\n",
              "      fill: #D2E3FC;\n",
              "    }\n",
              "\n",
              "    [theme=dark] .colab-df-convert:hover {\n",
              "      background-color: #434B5C;\n",
              "      box-shadow: 0px 1px 3px 1px rgba(0, 0, 0, 0.15);\n",
              "      filter: drop-shadow(0px 1px 2px rgba(0, 0, 0, 0.3));\n",
              "      fill: #FFFFFF;\n",
              "    }\n",
              "  </style>\n",
              "\n",
              "      <script>\n",
              "        const buttonEl =\n",
              "          document.querySelector('#df-299269de-75a2-43b4-bedf-38db9954a7be button.colab-df-convert');\n",
              "        buttonEl.style.display =\n",
              "          google.colab.kernel.accessAllowed ? 'block' : 'none';\n",
              "\n",
              "        async function convertToInteractive(key) {\n",
              "          const element = document.querySelector('#df-299269de-75a2-43b4-bedf-38db9954a7be');\n",
              "          const dataTable =\n",
              "            await google.colab.kernel.invokeFunction('convertToInteractive',\n",
              "                                                     [key], {});\n",
              "          if (!dataTable) return;\n",
              "\n",
              "          const docLinkHtml = 'Like what you see? Visit the ' +\n",
              "            '<a target=\"_blank\" href=https://colab.research.google.com/notebooks/data_table.ipynb>data table notebook</a>'\n",
              "            + ' to learn more about interactive tables.';\n",
              "          element.innerHTML = '';\n",
              "          dataTable['output_type'] = 'display_data';\n",
              "          await google.colab.output.renderOutput(dataTable, element);\n",
              "          const docLink = document.createElement('div');\n",
              "          docLink.innerHTML = docLinkHtml;\n",
              "          element.appendChild(docLink);\n",
              "        }\n",
              "      </script>\n",
              "    </div>\n",
              "  </div>\n",
              "  "
            ],
            "text/plain": [
              "           Date      Time  PT08.S1(CO)  PT08.S2(NMHC)  PT08.S3(NOx)  NO2(GT)  \\\n",
              "0     3/10/2004  18:00:00       1360.0         1046.0        1056.0    113.0   \n",
              "1     3/10/2004  19:00:00       1292.0          955.0        1174.0     92.0   \n",
              "2     3/10/2004  20:00:00       1402.0          939.0        1140.0    114.0   \n",
              "3     3/10/2004  21:00:00       1376.0          948.0        1092.0    122.0   \n",
              "4     3/10/2004  22:00:00       1272.0          836.0        1205.0    116.0   \n",
              "...         ...       ...          ...            ...           ...      ...   \n",
              "9352   4/4/2005  10:00:00       1314.0         1101.0         539.0    190.0   \n",
              "9353   4/4/2005  11:00:00       1163.0         1027.0         604.0    179.0   \n",
              "9354   4/4/2005  12:00:00       1142.0         1063.0         603.0    175.0   \n",
              "9355   4/4/2005  13:00:00       1003.0          961.0         702.0    156.0   \n",
              "9356   4/4/2005  14:00:00       1071.0         1047.0         654.0    168.0   \n",
              "\n",
              "      PT08.S4(NO2)  PT08.S5(O3)     T    RH      AH  \n",
              "0           1692.0       1268.0  13.6  48.9  0.7578  \n",
              "1           1559.0        972.0  13.3  47.7  0.7255  \n",
              "2           1555.0       1074.0  11.9  54.0  0.7502  \n",
              "3           1584.0       1203.0  11.0  60.0  0.7867  \n",
              "4           1490.0       1110.0  11.2  59.6  0.7888  \n",
              "...            ...          ...   ...   ...     ...  \n",
              "9352        1374.0       1729.0  21.9  29.3  0.7568  \n",
              "9353        1264.0       1269.0  24.3  23.7  0.7119  \n",
              "9354        1241.0       1092.0  26.9  18.3  0.6406  \n",
              "9355        1041.0        770.0  28.3  13.5  0.5139  \n",
              "9356        1129.0        816.0  28.5  13.1  0.5028  \n",
              "\n",
              "[7715 rows x 11 columns]"
            ]
          },
          "execution_count": 19,
          "metadata": {},
          "output_type": "execute_result"
        }
      ],
      "source": [
        "df"
      ]
    },
    {
      "cell_type": "code",
      "execution_count": 20,
      "metadata": {
        "colab": {
          "base_uri": "https://localhost:8080/"
        },
        "id": "fe5-Iw42_jgZ",
        "outputId": "2dbe233a-655a-40a9-826f-819d3a63748c"
      },
      "outputs": [
        {
          "data": {
            "text/plain": [
              "Date               0\n",
              "Time               0\n",
              "PT08.S1(CO)      322\n",
              "PT08.S2(NMHC)    322\n",
              "PT08.S3(NOx)     322\n",
              "NO2(GT)            0\n",
              "PT08.S4(NO2)     322\n",
              "PT08.S5(O3)      322\n",
              "T                322\n",
              "RH               322\n",
              "AH               322\n",
              "dtype: int64"
            ]
          },
          "execution_count": 20,
          "metadata": {},
          "output_type": "execute_result"
        }
      ],
      "source": [
        "df.isnull().sum()"
      ]
    },
    {
      "cell_type": "code",
      "execution_count": 21,
      "metadata": {
        "id": "s458uSfw_jgZ"
      },
      "outputs": [],
      "source": [
        "df = df.dropna(axis=0,subset= ['PT08.S1(CO)'])"
      ]
    },
    {
      "cell_type": "code",
      "execution_count": 22,
      "metadata": {
        "colab": {
          "base_uri": "https://localhost:8080/"
        },
        "id": "IyJfok90_jgZ",
        "outputId": "6c029d68-0fa0-4bbd-d757-235d7f3b27b1",
        "scrolled": true
      },
      "outputs": [
        {
          "data": {
            "text/plain": [
              "Date             0\n",
              "Time             0\n",
              "PT08.S1(CO)      0\n",
              "PT08.S2(NMHC)    0\n",
              "PT08.S3(NOx)     0\n",
              "NO2(GT)          0\n",
              "PT08.S4(NO2)     0\n",
              "PT08.S5(O3)      0\n",
              "T                0\n",
              "RH               0\n",
              "AH               0\n",
              "dtype: int64"
            ]
          },
          "execution_count": 22,
          "metadata": {},
          "output_type": "execute_result"
        }
      ],
      "source": [
        "df.isnull().sum()"
      ]
    },
    {
      "cell_type": "code",
      "execution_count": 23,
      "metadata": {
        "id": "Yw35rr56_jga"
      },
      "outputs": [],
      "source": [
        "y = df['NO2(GT)']\n",
        "x = df.drop('NO2(GT)', axis=1)"
      ]
    },
    {
      "cell_type": "code",
      "execution_count": 24,
      "metadata": {
        "colab": {
          "base_uri": "https://localhost:8080/",
          "height": 424
        },
        "id": "QKn72coy_jga",
        "outputId": "b1b01e3b-908a-4890-d6ee-e677194adcdc"
      },
      "outputs": [
        {
          "data": {
            "text/html": [
              "\n",
              "  <div id=\"df-0979c977-9f66-43ba-94d9-12a67524c8d8\">\n",
              "    <div class=\"colab-df-container\">\n",
              "      <div>\n",
              "<style scoped>\n",
              "    .dataframe tbody tr th:only-of-type {\n",
              "        vertical-align: middle;\n",
              "    }\n",
              "\n",
              "    .dataframe tbody tr th {\n",
              "        vertical-align: top;\n",
              "    }\n",
              "\n",
              "    .dataframe thead th {\n",
              "        text-align: right;\n",
              "    }\n",
              "</style>\n",
              "<table border=\"1\" class=\"dataframe\">\n",
              "  <thead>\n",
              "    <tr style=\"text-align: right;\">\n",
              "      <th></th>\n",
              "      <th>Date</th>\n",
              "      <th>Time</th>\n",
              "      <th>PT08.S1(CO)</th>\n",
              "      <th>PT08.S2(NMHC)</th>\n",
              "      <th>PT08.S3(NOx)</th>\n",
              "      <th>PT08.S4(NO2)</th>\n",
              "      <th>PT08.S5(O3)</th>\n",
              "      <th>T</th>\n",
              "      <th>RH</th>\n",
              "      <th>AH</th>\n",
              "    </tr>\n",
              "  </thead>\n",
              "  <tbody>\n",
              "    <tr>\n",
              "      <th>0</th>\n",
              "      <td>3/10/2004</td>\n",
              "      <td>18:00:00</td>\n",
              "      <td>1360.0</td>\n",
              "      <td>1046.0</td>\n",
              "      <td>1056.0</td>\n",
              "      <td>1692.0</td>\n",
              "      <td>1268.0</td>\n",
              "      <td>13.6</td>\n",
              "      <td>48.9</td>\n",
              "      <td>0.7578</td>\n",
              "    </tr>\n",
              "    <tr>\n",
              "      <th>1</th>\n",
              "      <td>3/10/2004</td>\n",
              "      <td>19:00:00</td>\n",
              "      <td>1292.0</td>\n",
              "      <td>955.0</td>\n",
              "      <td>1174.0</td>\n",
              "      <td>1559.0</td>\n",
              "      <td>972.0</td>\n",
              "      <td>13.3</td>\n",
              "      <td>47.7</td>\n",
              "      <td>0.7255</td>\n",
              "    </tr>\n",
              "    <tr>\n",
              "      <th>2</th>\n",
              "      <td>3/10/2004</td>\n",
              "      <td>20:00:00</td>\n",
              "      <td>1402.0</td>\n",
              "      <td>939.0</td>\n",
              "      <td>1140.0</td>\n",
              "      <td>1555.0</td>\n",
              "      <td>1074.0</td>\n",
              "      <td>11.9</td>\n",
              "      <td>54.0</td>\n",
              "      <td>0.7502</td>\n",
              "    </tr>\n",
              "    <tr>\n",
              "      <th>3</th>\n",
              "      <td>3/10/2004</td>\n",
              "      <td>21:00:00</td>\n",
              "      <td>1376.0</td>\n",
              "      <td>948.0</td>\n",
              "      <td>1092.0</td>\n",
              "      <td>1584.0</td>\n",
              "      <td>1203.0</td>\n",
              "      <td>11.0</td>\n",
              "      <td>60.0</td>\n",
              "      <td>0.7867</td>\n",
              "    </tr>\n",
              "    <tr>\n",
              "      <th>4</th>\n",
              "      <td>3/10/2004</td>\n",
              "      <td>22:00:00</td>\n",
              "      <td>1272.0</td>\n",
              "      <td>836.0</td>\n",
              "      <td>1205.0</td>\n",
              "      <td>1490.0</td>\n",
              "      <td>1110.0</td>\n",
              "      <td>11.2</td>\n",
              "      <td>59.6</td>\n",
              "      <td>0.7888</td>\n",
              "    </tr>\n",
              "    <tr>\n",
              "      <th>...</th>\n",
              "      <td>...</td>\n",
              "      <td>...</td>\n",
              "      <td>...</td>\n",
              "      <td>...</td>\n",
              "      <td>...</td>\n",
              "      <td>...</td>\n",
              "      <td>...</td>\n",
              "      <td>...</td>\n",
              "      <td>...</td>\n",
              "      <td>...</td>\n",
              "    </tr>\n",
              "    <tr>\n",
              "      <th>9352</th>\n",
              "      <td>4/4/2005</td>\n",
              "      <td>10:00:00</td>\n",
              "      <td>1314.0</td>\n",
              "      <td>1101.0</td>\n",
              "      <td>539.0</td>\n",
              "      <td>1374.0</td>\n",
              "      <td>1729.0</td>\n",
              "      <td>21.9</td>\n",
              "      <td>29.3</td>\n",
              "      <td>0.7568</td>\n",
              "    </tr>\n",
              "    <tr>\n",
              "      <th>9353</th>\n",
              "      <td>4/4/2005</td>\n",
              "      <td>11:00:00</td>\n",
              "      <td>1163.0</td>\n",
              "      <td>1027.0</td>\n",
              "      <td>604.0</td>\n",
              "      <td>1264.0</td>\n",
              "      <td>1269.0</td>\n",
              "      <td>24.3</td>\n",
              "      <td>23.7</td>\n",
              "      <td>0.7119</td>\n",
              "    </tr>\n",
              "    <tr>\n",
              "      <th>9354</th>\n",
              "      <td>4/4/2005</td>\n",
              "      <td>12:00:00</td>\n",
              "      <td>1142.0</td>\n",
              "      <td>1063.0</td>\n",
              "      <td>603.0</td>\n",
              "      <td>1241.0</td>\n",
              "      <td>1092.0</td>\n",
              "      <td>26.9</td>\n",
              "      <td>18.3</td>\n",
              "      <td>0.6406</td>\n",
              "    </tr>\n",
              "    <tr>\n",
              "      <th>9355</th>\n",
              "      <td>4/4/2005</td>\n",
              "      <td>13:00:00</td>\n",
              "      <td>1003.0</td>\n",
              "      <td>961.0</td>\n",
              "      <td>702.0</td>\n",
              "      <td>1041.0</td>\n",
              "      <td>770.0</td>\n",
              "      <td>28.3</td>\n",
              "      <td>13.5</td>\n",
              "      <td>0.5139</td>\n",
              "    </tr>\n",
              "    <tr>\n",
              "      <th>9356</th>\n",
              "      <td>4/4/2005</td>\n",
              "      <td>14:00:00</td>\n",
              "      <td>1071.0</td>\n",
              "      <td>1047.0</td>\n",
              "      <td>654.0</td>\n",
              "      <td>1129.0</td>\n",
              "      <td>816.0</td>\n",
              "      <td>28.5</td>\n",
              "      <td>13.1</td>\n",
              "      <td>0.5028</td>\n",
              "    </tr>\n",
              "  </tbody>\n",
              "</table>\n",
              "<p>7393 rows × 10 columns</p>\n",
              "</div>\n",
              "      <button class=\"colab-df-convert\" onclick=\"convertToInteractive('df-0979c977-9f66-43ba-94d9-12a67524c8d8')\"\n",
              "              title=\"Convert this dataframe to an interactive table.\"\n",
              "              style=\"display:none;\">\n",
              "        \n",
              "  <svg xmlns=\"http://www.w3.org/2000/svg\" height=\"24px\"viewBox=\"0 0 24 24\"\n",
              "       width=\"24px\">\n",
              "    <path d=\"M0 0h24v24H0V0z\" fill=\"none\"/>\n",
              "    <path d=\"M18.56 5.44l.94 2.06.94-2.06 2.06-.94-2.06-.94-.94-2.06-.94 2.06-2.06.94zm-11 1L8.5 8.5l.94-2.06 2.06-.94-2.06-.94L8.5 2.5l-.94 2.06-2.06.94zm10 10l.94 2.06.94-2.06 2.06-.94-2.06-.94-.94-2.06-.94 2.06-2.06.94z\"/><path d=\"M17.41 7.96l-1.37-1.37c-.4-.4-.92-.59-1.43-.59-.52 0-1.04.2-1.43.59L10.3 9.45l-7.72 7.72c-.78.78-.78 2.05 0 2.83L4 21.41c.39.39.9.59 1.41.59.51 0 1.02-.2 1.41-.59l7.78-7.78 2.81-2.81c.8-.78.8-2.07 0-2.86zM5.41 20L4 18.59l7.72-7.72 1.47 1.35L5.41 20z\"/>\n",
              "  </svg>\n",
              "      </button>\n",
              "      \n",
              "  <style>\n",
              "    .colab-df-container {\n",
              "      display:flex;\n",
              "      flex-wrap:wrap;\n",
              "      gap: 12px;\n",
              "    }\n",
              "\n",
              "    .colab-df-convert {\n",
              "      background-color: #E8F0FE;\n",
              "      border: none;\n",
              "      border-radius: 50%;\n",
              "      cursor: pointer;\n",
              "      display: none;\n",
              "      fill: #1967D2;\n",
              "      height: 32px;\n",
              "      padding: 0 0 0 0;\n",
              "      width: 32px;\n",
              "    }\n",
              "\n",
              "    .colab-df-convert:hover {\n",
              "      background-color: #E2EBFA;\n",
              "      box-shadow: 0px 1px 2px rgba(60, 64, 67, 0.3), 0px 1px 3px 1px rgba(60, 64, 67, 0.15);\n",
              "      fill: #174EA6;\n",
              "    }\n",
              "\n",
              "    [theme=dark] .colab-df-convert {\n",
              "      background-color: #3B4455;\n",
              "      fill: #D2E3FC;\n",
              "    }\n",
              "\n",
              "    [theme=dark] .colab-df-convert:hover {\n",
              "      background-color: #434B5C;\n",
              "      box-shadow: 0px 1px 3px 1px rgba(0, 0, 0, 0.15);\n",
              "      filter: drop-shadow(0px 1px 2px rgba(0, 0, 0, 0.3));\n",
              "      fill: #FFFFFF;\n",
              "    }\n",
              "  </style>\n",
              "\n",
              "      <script>\n",
              "        const buttonEl =\n",
              "          document.querySelector('#df-0979c977-9f66-43ba-94d9-12a67524c8d8 button.colab-df-convert');\n",
              "        buttonEl.style.display =\n",
              "          google.colab.kernel.accessAllowed ? 'block' : 'none';\n",
              "\n",
              "        async function convertToInteractive(key) {\n",
              "          const element = document.querySelector('#df-0979c977-9f66-43ba-94d9-12a67524c8d8');\n",
              "          const dataTable =\n",
              "            await google.colab.kernel.invokeFunction('convertToInteractive',\n",
              "                                                     [key], {});\n",
              "          if (!dataTable) return;\n",
              "\n",
              "          const docLinkHtml = 'Like what you see? Visit the ' +\n",
              "            '<a target=\"_blank\" href=https://colab.research.google.com/notebooks/data_table.ipynb>data table notebook</a>'\n",
              "            + ' to learn more about interactive tables.';\n",
              "          element.innerHTML = '';\n",
              "          dataTable['output_type'] = 'display_data';\n",
              "          await google.colab.output.renderOutput(dataTable, element);\n",
              "          const docLink = document.createElement('div');\n",
              "          docLink.innerHTML = docLinkHtml;\n",
              "          element.appendChild(docLink);\n",
              "        }\n",
              "      </script>\n",
              "    </div>\n",
              "  </div>\n",
              "  "
            ],
            "text/plain": [
              "           Date      Time  PT08.S1(CO)  PT08.S2(NMHC)  PT08.S3(NOx)  \\\n",
              "0     3/10/2004  18:00:00       1360.0         1046.0        1056.0   \n",
              "1     3/10/2004  19:00:00       1292.0          955.0        1174.0   \n",
              "2     3/10/2004  20:00:00       1402.0          939.0        1140.0   \n",
              "3     3/10/2004  21:00:00       1376.0          948.0        1092.0   \n",
              "4     3/10/2004  22:00:00       1272.0          836.0        1205.0   \n",
              "...         ...       ...          ...            ...           ...   \n",
              "9352   4/4/2005  10:00:00       1314.0         1101.0         539.0   \n",
              "9353   4/4/2005  11:00:00       1163.0         1027.0         604.0   \n",
              "9354   4/4/2005  12:00:00       1142.0         1063.0         603.0   \n",
              "9355   4/4/2005  13:00:00       1003.0          961.0         702.0   \n",
              "9356   4/4/2005  14:00:00       1071.0         1047.0         654.0   \n",
              "\n",
              "      PT08.S4(NO2)  PT08.S5(O3)     T    RH      AH  \n",
              "0           1692.0       1268.0  13.6  48.9  0.7578  \n",
              "1           1559.0        972.0  13.3  47.7  0.7255  \n",
              "2           1555.0       1074.0  11.9  54.0  0.7502  \n",
              "3           1584.0       1203.0  11.0  60.0  0.7867  \n",
              "4           1490.0       1110.0  11.2  59.6  0.7888  \n",
              "...            ...          ...   ...   ...     ...  \n",
              "9352        1374.0       1729.0  21.9  29.3  0.7568  \n",
              "9353        1264.0       1269.0  24.3  23.7  0.7119  \n",
              "9354        1241.0       1092.0  26.9  18.3  0.6406  \n",
              "9355        1041.0        770.0  28.3  13.5  0.5139  \n",
              "9356        1129.0        816.0  28.5  13.1  0.5028  \n",
              "\n",
              "[7393 rows x 10 columns]"
            ]
          },
          "execution_count": 24,
          "metadata": {},
          "output_type": "execute_result"
        }
      ],
      "source": [
        "x"
      ]
    },
    {
      "cell_type": "markdown",
      "metadata": {
        "id": "v7vinFJmuQYn"
      },
      "source": [
        "### 4- Replace date feature"
      ]
    },
    {
      "cell_type": "code",
      "execution_count": 25,
      "metadata": {
        "colab": {
          "base_uri": "https://localhost:8080/"
        },
        "id": "nRCzUVqq_jga",
        "outputId": "50932a08-4690-4c09-836c-ad8fc46c3dee",
        "scrolled": true
      },
      "outputs": [
        {
          "name": "stderr",
          "output_type": "stream",
          "text": [
            "/usr/local/lib/python3.7/dist-packages/pandas/core/frame.py:3641: SettingWithCopyWarning: \n",
            "A value is trying to be set on a copy of a slice from a DataFrame.\n",
            "Try using .loc[row_indexer,col_indexer] = value instead\n",
            "\n",
            "See the caveats in the documentation: https://pandas.pydata.org/pandas-docs/stable/user_guide/indexing.html#returning-a-view-versus-a-copy\n",
            "  self[k1] = value[k2]\n"
          ]
        }
      ],
      "source": [
        "df[['Day','Month','Year']] = df.Date.str.split(\"/\", expand=True)"
      ]
    },
    {
      "cell_type": "code",
      "execution_count": 26,
      "metadata": {
        "id": "Xz8ANpuG_jga"
      },
      "outputs": [],
      "source": [
        "df = df.drop('Date', axis=1)"
      ]
    },
    {
      "cell_type": "markdown",
      "metadata": {
        "id": "zHvSGF9fuQYo"
      },
      "source": [
        "### 5- Replace time feature"
      ]
    },
    {
      "cell_type": "code",
      "execution_count": 27,
      "metadata": {
        "id": "Kdp04oga_jga"
      },
      "outputs": [],
      "source": [
        "df[['Hours', 'Minutes', 'Seconds']] = df.Time.str.split(\":\", expand=True)"
      ]
    },
    {
      "cell_type": "code",
      "execution_count": 28,
      "metadata": {
        "id": "ECi4WVJr_jgb"
      },
      "outputs": [],
      "source": [
        "df = df.drop('Time', axis=1)"
      ]
    },
    {
      "cell_type": "code",
      "execution_count": 29,
      "metadata": {
        "colab": {
          "base_uri": "https://localhost:8080/",
          "height": 488
        },
        "id": "2CFAuSZz_jgb",
        "outputId": "75c9911b-28ae-4cd4-b5bf-51f6294de31c"
      },
      "outputs": [
        {
          "data": {
            "text/html": [
              "\n",
              "  <div id=\"df-cc5dd1bf-49e2-4391-9a75-7fbb9c83b13f\">\n",
              "    <div class=\"colab-df-container\">\n",
              "      <div>\n",
              "<style scoped>\n",
              "    .dataframe tbody tr th:only-of-type {\n",
              "        vertical-align: middle;\n",
              "    }\n",
              "\n",
              "    .dataframe tbody tr th {\n",
              "        vertical-align: top;\n",
              "    }\n",
              "\n",
              "    .dataframe thead th {\n",
              "        text-align: right;\n",
              "    }\n",
              "</style>\n",
              "<table border=\"1\" class=\"dataframe\">\n",
              "  <thead>\n",
              "    <tr style=\"text-align: right;\">\n",
              "      <th></th>\n",
              "      <th>PT08.S1(CO)</th>\n",
              "      <th>PT08.S2(NMHC)</th>\n",
              "      <th>PT08.S3(NOx)</th>\n",
              "      <th>NO2(GT)</th>\n",
              "      <th>PT08.S4(NO2)</th>\n",
              "      <th>PT08.S5(O3)</th>\n",
              "      <th>T</th>\n",
              "      <th>RH</th>\n",
              "      <th>AH</th>\n",
              "      <th>Day</th>\n",
              "      <th>Month</th>\n",
              "      <th>Year</th>\n",
              "      <th>Hours</th>\n",
              "      <th>Minutes</th>\n",
              "      <th>Seconds</th>\n",
              "    </tr>\n",
              "  </thead>\n",
              "  <tbody>\n",
              "    <tr>\n",
              "      <th>0</th>\n",
              "      <td>1360.0</td>\n",
              "      <td>1046.0</td>\n",
              "      <td>1056.0</td>\n",
              "      <td>113.0</td>\n",
              "      <td>1692.0</td>\n",
              "      <td>1268.0</td>\n",
              "      <td>13.6</td>\n",
              "      <td>48.9</td>\n",
              "      <td>0.7578</td>\n",
              "      <td>3</td>\n",
              "      <td>10</td>\n",
              "      <td>2004</td>\n",
              "      <td>18</td>\n",
              "      <td>00</td>\n",
              "      <td>00</td>\n",
              "    </tr>\n",
              "    <tr>\n",
              "      <th>1</th>\n",
              "      <td>1292.0</td>\n",
              "      <td>955.0</td>\n",
              "      <td>1174.0</td>\n",
              "      <td>92.0</td>\n",
              "      <td>1559.0</td>\n",
              "      <td>972.0</td>\n",
              "      <td>13.3</td>\n",
              "      <td>47.7</td>\n",
              "      <td>0.7255</td>\n",
              "      <td>3</td>\n",
              "      <td>10</td>\n",
              "      <td>2004</td>\n",
              "      <td>19</td>\n",
              "      <td>00</td>\n",
              "      <td>00</td>\n",
              "    </tr>\n",
              "    <tr>\n",
              "      <th>2</th>\n",
              "      <td>1402.0</td>\n",
              "      <td>939.0</td>\n",
              "      <td>1140.0</td>\n",
              "      <td>114.0</td>\n",
              "      <td>1555.0</td>\n",
              "      <td>1074.0</td>\n",
              "      <td>11.9</td>\n",
              "      <td>54.0</td>\n",
              "      <td>0.7502</td>\n",
              "      <td>3</td>\n",
              "      <td>10</td>\n",
              "      <td>2004</td>\n",
              "      <td>20</td>\n",
              "      <td>00</td>\n",
              "      <td>00</td>\n",
              "    </tr>\n",
              "    <tr>\n",
              "      <th>3</th>\n",
              "      <td>1376.0</td>\n",
              "      <td>948.0</td>\n",
              "      <td>1092.0</td>\n",
              "      <td>122.0</td>\n",
              "      <td>1584.0</td>\n",
              "      <td>1203.0</td>\n",
              "      <td>11.0</td>\n",
              "      <td>60.0</td>\n",
              "      <td>0.7867</td>\n",
              "      <td>3</td>\n",
              "      <td>10</td>\n",
              "      <td>2004</td>\n",
              "      <td>21</td>\n",
              "      <td>00</td>\n",
              "      <td>00</td>\n",
              "    </tr>\n",
              "    <tr>\n",
              "      <th>4</th>\n",
              "      <td>1272.0</td>\n",
              "      <td>836.0</td>\n",
              "      <td>1205.0</td>\n",
              "      <td>116.0</td>\n",
              "      <td>1490.0</td>\n",
              "      <td>1110.0</td>\n",
              "      <td>11.2</td>\n",
              "      <td>59.6</td>\n",
              "      <td>0.7888</td>\n",
              "      <td>3</td>\n",
              "      <td>10</td>\n",
              "      <td>2004</td>\n",
              "      <td>22</td>\n",
              "      <td>00</td>\n",
              "      <td>00</td>\n",
              "    </tr>\n",
              "    <tr>\n",
              "      <th>...</th>\n",
              "      <td>...</td>\n",
              "      <td>...</td>\n",
              "      <td>...</td>\n",
              "      <td>...</td>\n",
              "      <td>...</td>\n",
              "      <td>...</td>\n",
              "      <td>...</td>\n",
              "      <td>...</td>\n",
              "      <td>...</td>\n",
              "      <td>...</td>\n",
              "      <td>...</td>\n",
              "      <td>...</td>\n",
              "      <td>...</td>\n",
              "      <td>...</td>\n",
              "      <td>...</td>\n",
              "    </tr>\n",
              "    <tr>\n",
              "      <th>9352</th>\n",
              "      <td>1314.0</td>\n",
              "      <td>1101.0</td>\n",
              "      <td>539.0</td>\n",
              "      <td>190.0</td>\n",
              "      <td>1374.0</td>\n",
              "      <td>1729.0</td>\n",
              "      <td>21.9</td>\n",
              "      <td>29.3</td>\n",
              "      <td>0.7568</td>\n",
              "      <td>4</td>\n",
              "      <td>4</td>\n",
              "      <td>2005</td>\n",
              "      <td>10</td>\n",
              "      <td>00</td>\n",
              "      <td>00</td>\n",
              "    </tr>\n",
              "    <tr>\n",
              "      <th>9353</th>\n",
              "      <td>1163.0</td>\n",
              "      <td>1027.0</td>\n",
              "      <td>604.0</td>\n",
              "      <td>179.0</td>\n",
              "      <td>1264.0</td>\n",
              "      <td>1269.0</td>\n",
              "      <td>24.3</td>\n",
              "      <td>23.7</td>\n",
              "      <td>0.7119</td>\n",
              "      <td>4</td>\n",
              "      <td>4</td>\n",
              "      <td>2005</td>\n",
              "      <td>11</td>\n",
              "      <td>00</td>\n",
              "      <td>00</td>\n",
              "    </tr>\n",
              "    <tr>\n",
              "      <th>9354</th>\n",
              "      <td>1142.0</td>\n",
              "      <td>1063.0</td>\n",
              "      <td>603.0</td>\n",
              "      <td>175.0</td>\n",
              "      <td>1241.0</td>\n",
              "      <td>1092.0</td>\n",
              "      <td>26.9</td>\n",
              "      <td>18.3</td>\n",
              "      <td>0.6406</td>\n",
              "      <td>4</td>\n",
              "      <td>4</td>\n",
              "      <td>2005</td>\n",
              "      <td>12</td>\n",
              "      <td>00</td>\n",
              "      <td>00</td>\n",
              "    </tr>\n",
              "    <tr>\n",
              "      <th>9355</th>\n",
              "      <td>1003.0</td>\n",
              "      <td>961.0</td>\n",
              "      <td>702.0</td>\n",
              "      <td>156.0</td>\n",
              "      <td>1041.0</td>\n",
              "      <td>770.0</td>\n",
              "      <td>28.3</td>\n",
              "      <td>13.5</td>\n",
              "      <td>0.5139</td>\n",
              "      <td>4</td>\n",
              "      <td>4</td>\n",
              "      <td>2005</td>\n",
              "      <td>13</td>\n",
              "      <td>00</td>\n",
              "      <td>00</td>\n",
              "    </tr>\n",
              "    <tr>\n",
              "      <th>9356</th>\n",
              "      <td>1071.0</td>\n",
              "      <td>1047.0</td>\n",
              "      <td>654.0</td>\n",
              "      <td>168.0</td>\n",
              "      <td>1129.0</td>\n",
              "      <td>816.0</td>\n",
              "      <td>28.5</td>\n",
              "      <td>13.1</td>\n",
              "      <td>0.5028</td>\n",
              "      <td>4</td>\n",
              "      <td>4</td>\n",
              "      <td>2005</td>\n",
              "      <td>14</td>\n",
              "      <td>00</td>\n",
              "      <td>00</td>\n",
              "    </tr>\n",
              "  </tbody>\n",
              "</table>\n",
              "<p>7393 rows × 15 columns</p>\n",
              "</div>\n",
              "      <button class=\"colab-df-convert\" onclick=\"convertToInteractive('df-cc5dd1bf-49e2-4391-9a75-7fbb9c83b13f')\"\n",
              "              title=\"Convert this dataframe to an interactive table.\"\n",
              "              style=\"display:none;\">\n",
              "        \n",
              "  <svg xmlns=\"http://www.w3.org/2000/svg\" height=\"24px\"viewBox=\"0 0 24 24\"\n",
              "       width=\"24px\">\n",
              "    <path d=\"M0 0h24v24H0V0z\" fill=\"none\"/>\n",
              "    <path d=\"M18.56 5.44l.94 2.06.94-2.06 2.06-.94-2.06-.94-.94-2.06-.94 2.06-2.06.94zm-11 1L8.5 8.5l.94-2.06 2.06-.94-2.06-.94L8.5 2.5l-.94 2.06-2.06.94zm10 10l.94 2.06.94-2.06 2.06-.94-2.06-.94-.94-2.06-.94 2.06-2.06.94z\"/><path d=\"M17.41 7.96l-1.37-1.37c-.4-.4-.92-.59-1.43-.59-.52 0-1.04.2-1.43.59L10.3 9.45l-7.72 7.72c-.78.78-.78 2.05 0 2.83L4 21.41c.39.39.9.59 1.41.59.51 0 1.02-.2 1.41-.59l7.78-7.78 2.81-2.81c.8-.78.8-2.07 0-2.86zM5.41 20L4 18.59l7.72-7.72 1.47 1.35L5.41 20z\"/>\n",
              "  </svg>\n",
              "      </button>\n",
              "      \n",
              "  <style>\n",
              "    .colab-df-container {\n",
              "      display:flex;\n",
              "      flex-wrap:wrap;\n",
              "      gap: 12px;\n",
              "    }\n",
              "\n",
              "    .colab-df-convert {\n",
              "      background-color: #E8F0FE;\n",
              "      border: none;\n",
              "      border-radius: 50%;\n",
              "      cursor: pointer;\n",
              "      display: none;\n",
              "      fill: #1967D2;\n",
              "      height: 32px;\n",
              "      padding: 0 0 0 0;\n",
              "      width: 32px;\n",
              "    }\n",
              "\n",
              "    .colab-df-convert:hover {\n",
              "      background-color: #E2EBFA;\n",
              "      box-shadow: 0px 1px 2px rgba(60, 64, 67, 0.3), 0px 1px 3px 1px rgba(60, 64, 67, 0.15);\n",
              "      fill: #174EA6;\n",
              "    }\n",
              "\n",
              "    [theme=dark] .colab-df-convert {\n",
              "      background-color: #3B4455;\n",
              "      fill: #D2E3FC;\n",
              "    }\n",
              "\n",
              "    [theme=dark] .colab-df-convert:hover {\n",
              "      background-color: #434B5C;\n",
              "      box-shadow: 0px 1px 3px 1px rgba(0, 0, 0, 0.15);\n",
              "      filter: drop-shadow(0px 1px 2px rgba(0, 0, 0, 0.3));\n",
              "      fill: #FFFFFF;\n",
              "    }\n",
              "  </style>\n",
              "\n",
              "      <script>\n",
              "        const buttonEl =\n",
              "          document.querySelector('#df-cc5dd1bf-49e2-4391-9a75-7fbb9c83b13f button.colab-df-convert');\n",
              "        buttonEl.style.display =\n",
              "          google.colab.kernel.accessAllowed ? 'block' : 'none';\n",
              "\n",
              "        async function convertToInteractive(key) {\n",
              "          const element = document.querySelector('#df-cc5dd1bf-49e2-4391-9a75-7fbb9c83b13f');\n",
              "          const dataTable =\n",
              "            await google.colab.kernel.invokeFunction('convertToInteractive',\n",
              "                                                     [key], {});\n",
              "          if (!dataTable) return;\n",
              "\n",
              "          const docLinkHtml = 'Like what you see? Visit the ' +\n",
              "            '<a target=\"_blank\" href=https://colab.research.google.com/notebooks/data_table.ipynb>data table notebook</a>'\n",
              "            + ' to learn more about interactive tables.';\n",
              "          element.innerHTML = '';\n",
              "          dataTable['output_type'] = 'display_data';\n",
              "          await google.colab.output.renderOutput(dataTable, element);\n",
              "          const docLink = document.createElement('div');\n",
              "          docLink.innerHTML = docLinkHtml;\n",
              "          element.appendChild(docLink);\n",
              "        }\n",
              "      </script>\n",
              "    </div>\n",
              "  </div>\n",
              "  "
            ],
            "text/plain": [
              "      PT08.S1(CO)  PT08.S2(NMHC)  PT08.S3(NOx)  NO2(GT)  PT08.S4(NO2)  \\\n",
              "0          1360.0         1046.0        1056.0    113.0        1692.0   \n",
              "1          1292.0          955.0        1174.0     92.0        1559.0   \n",
              "2          1402.0          939.0        1140.0    114.0        1555.0   \n",
              "3          1376.0          948.0        1092.0    122.0        1584.0   \n",
              "4          1272.0          836.0        1205.0    116.0        1490.0   \n",
              "...           ...            ...           ...      ...           ...   \n",
              "9352       1314.0         1101.0         539.0    190.0        1374.0   \n",
              "9353       1163.0         1027.0         604.0    179.0        1264.0   \n",
              "9354       1142.0         1063.0         603.0    175.0        1241.0   \n",
              "9355       1003.0          961.0         702.0    156.0        1041.0   \n",
              "9356       1071.0         1047.0         654.0    168.0        1129.0   \n",
              "\n",
              "      PT08.S5(O3)     T    RH      AH Day Month  Year Hours Minutes Seconds  \n",
              "0          1268.0  13.6  48.9  0.7578   3    10  2004    18      00      00  \n",
              "1           972.0  13.3  47.7  0.7255   3    10  2004    19      00      00  \n",
              "2          1074.0  11.9  54.0  0.7502   3    10  2004    20      00      00  \n",
              "3          1203.0  11.0  60.0  0.7867   3    10  2004    21      00      00  \n",
              "4          1110.0  11.2  59.6  0.7888   3    10  2004    22      00      00  \n",
              "...           ...   ...   ...     ...  ..   ...   ...   ...     ...     ...  \n",
              "9352       1729.0  21.9  29.3  0.7568   4     4  2005    10      00      00  \n",
              "9353       1269.0  24.3  23.7  0.7119   4     4  2005    11      00      00  \n",
              "9354       1092.0  26.9  18.3  0.6406   4     4  2005    12      00      00  \n",
              "9355        770.0  28.3  13.5  0.5139   4     4  2005    13      00      00  \n",
              "9356        816.0  28.5  13.1  0.5028   4     4  2005    14      00      00  \n",
              "\n",
              "[7393 rows x 15 columns]"
            ]
          },
          "execution_count": 29,
          "metadata": {},
          "output_type": "execute_result"
        }
      ],
      "source": [
        "df"
      ]
    },
    {
      "cell_type": "markdown",
      "metadata": {
        "id": "rV0bYDXzuQYo"
      },
      "source": [
        "### 6- Apply feature scaling"
      ]
    },
    {
      "cell_type": "code",
      "execution_count": 30,
      "metadata": {
        "id": "qIgBH_d2uQYo"
      },
      "outputs": [],
      "source": [
        "x = df.drop('NO2(GT)', axis=1)\n",
        "y = df['NO2(GT)']"
      ]
    },
    {
      "cell_type": "code",
      "execution_count": 31,
      "metadata": {
        "id": "9cdi-_m6_jgb"
      },
      "outputs": [],
      "source": [
        "X_train, X_test, y_train, y_test = train_test_split(x, y, test_size=.2, random_state=42)"
      ]
    },
    {
      "cell_type": "code",
      "execution_count": 32,
      "metadata": {
        "id": "el5a1IBh_jgb"
      },
      "outputs": [],
      "source": [
        "from sklearn.preprocessing import MinMaxScaler"
      ]
    },
    {
      "cell_type": "code",
      "execution_count": 33,
      "metadata": {
        "colab": {
          "base_uri": "https://localhost:8080/",
          "height": 362
        },
        "id": "JV1kCn9z_jgb",
        "outputId": "d726e15c-66e4-4110-84bb-68988fdbdbcc"
      },
      "outputs": [
        {
          "data": {
            "text/plain": [
              "<matplotlib.axes._subplots.AxesSubplot at 0x7ff042e76510>"
            ]
          },
          "execution_count": 33,
          "metadata": {},
          "output_type": "execute_result"
        },
        {
          "data": {
            "image/png": "[encoded data removed]",
            "text/plain": [
              "<Figure size 1440x360 with 1 Axes>"
            ]
          },
          "metadata": {
            "needs_background": "light"
          },
          "output_type": "display_data"
        }
      ],
      "source": [
        "norm = MinMaxScaler().fit(X_train)\n",
        "X_train_norm = norm.transform(X_train)\n",
        "X_test_norm = norm.transform(X_test)\n",
        "pd.DataFrame(X_train_norm, columns=X_train.columns).plot.box(figsize=(20,5), rot=90)"
      ]
    },
    {
      "cell_type": "markdown",
      "metadata": {
        "id": "-Bh7ou_4uQYp"
      },
      "source": [
        "### 7- Evaluate different degrees of lasso CV polynomial regression"
      ]
    },
    {
      "cell_type": "code",
      "execution_count": 34,
      "metadata": {
        "collapsed": true,
        "id": "tLBRmfjuuQYp"
      },
      "outputs": [],
      "source": [
        "from sklearn.linear_model import LassoCV\n",
        "from sklearn.preprocessing import PolynomialFeatures"
      ]
    },
    {
      "cell_type": "code",
      "execution_count": 35,
      "metadata": {
        "id": "rU9YFKO1pZkD"
      },
      "outputs": [],
      "source": [
        "from sklearn.metrics import mean_absolute_error\n",
        "from sklearn.metrics import mean_squared_error"
      ]
    },
    {
      "cell_type": "code",
      "execution_count": 38,
      "metadata": {
        "colab": {
          "base_uri": "https://localhost:8080/"
        },
        "id": "ylBhYea4U6Jw",
        "outputId": "59c7901a-8351-44cb-a921-1db11bbb2d7e"
      },
      "outputs": [
        {
          "name": "stdout",
          "output_type": "stream",
          "text": [
            "1\n",
            "1\n",
            "23.845512952633587\n",
            "2\n",
            "2\n",
            "23.256946675799693\n",
            "3\n",
            "3\n",
            "23.222005149282747\n",
            "4\n"
          ]
        },
        {
          "name": "stderr",
          "output_type": "stream",
          "text": [
            "/usr/local/lib/python3.7/dist-packages/sklearn/linear_model/_coordinate_descent.py:648: ConvergenceWarning: Objective did not converge. You might want to increase the number of iterations, check the scale of the features or consider increasing regularisation. Duality gap: 1.191e+03, tolerance: 1.186e+03\n",
            "  coef_, l1_reg, l2_reg, X, y, max_iter, tol, rng, random, positive\n"
          ]
        },
        {
          "name": "stdout",
          "output_type": "stream",
          "text": [
            "23.232433288089204\n",
            "5\n"
          ]
        },
        {
          "name": "stderr",
          "output_type": "stream",
          "text": [
            "/usr/local/lib/python3.7/dist-packages/sklearn/linear_model/_coordinate_descent.py:648: ConvergenceWarning: Objective did not converge. You might want to increase the number of iterations, check the scale of the features or consider increasing regularisation. Duality gap: 1.457e+03, tolerance: 1.186e+03\n",
            "  coef_, l1_reg, l2_reg, X, y, max_iter, tol, rng, random, positive\n"
          ]
        },
        {
          "name": "stdout",
          "output_type": "stream",
          "text": [
            "5\n",
            "23.206727570083\n"
          ]
        }
      ],
      "source": [
        "# TRAINING ERROR PER DEGREE\n",
        "Lasso_train_rmse_errors = []\n",
        "# TEST ERROR PER DEGREE\n",
        "Lasso_test_rmse_errors = []\n",
        "RmseMin=10000\n",
        "index=0\n",
        "\n",
        "for i in range (1,6):\n",
        "    print(i)\n",
        "    polynomial_converter = PolynomialFeatures(degree=i,include_bias=False)\n",
        "    poly_features = polynomial_converter.fit_transform(x)\n",
        "    X_train, X_test, y_train, y_test = train_test_split(poly_features, y, test_size=0.3, random_state=101)\n",
        "\n",
        "    norm = MinMaxScaler().fit(X_train)\n",
        "    X_train_norm = norm.transform(X_train)\n",
        "    X_test_norm = norm.transform(X_test)\n",
        "\n",
        "    lasso_cv_model = LassoCV(eps=0.1,n_alphas=100,cv=5)\n",
        "    lasso_cv_model.fit(X_train_norm,y_train)\n",
        "    test_predictions = lasso_cv_model.predict(X_test_norm)\n",
        "    train_predictions = lasso_cv_model.predict(X_train_norm)\n",
        "\n",
        "    MSE1 = mean_squared_error(y_test,test_predictions)\n",
        "    TestRMSE = np.sqrt(MSE1)\n",
        "    if(TestRMSE<RmseMin):\n",
        "       RmseMin=TestRMSE\n",
        "       index=i\n",
        "       print(index)\n",
        "    MSE2 = mean_squared_error(y_train,train_predictions)\n",
        "    TrainRMSE = np.sqrt(MSE2)\n",
        "    print(TestRMSE)\n",
        "    Lasso_train_rmse_errors.append(TestRMSE)\n",
        "    Lasso_test_rmse_errors.append(TrainRMSE)"
      ]
    },
    {
      "cell_type": "code",
      "execution_count": 39,
      "metadata": {
        "colab": {
          "base_uri": "https://localhost:8080/",
          "height": 297
        },
        "id": "QQHW3Um4YaDI",
        "outputId": "bf1a6e04-c41a-4ea7-d1cb-0f85d01574e6"
      },
      "outputs": [
        {
          "data": {
            "text/plain": [
              "<matplotlib.legend.Legend at 0x7f38e2534b90>"
            ]
          },
          "execution_count": 39,
          "metadata": {},
          "output_type": "execute_result"
        },
        {
          "data": {
            "image/png": "[encoded data removed]",
            "text/plain": [
              "<Figure size 432x288 with 1 Axes>"
            ]
          },
          "metadata": {
            "needs_background": "light"
          },
          "output_type": "display_data"
        }
      ],
      "source": [
        "plt.plot(range(1,6),Lasso_train_rmse_errors,label='TRAIN')\n",
        "plt.plot(range(1,6),Lasso_test_rmse_errors,label='TEST')\n",
        "plt.xlabel(\"Polynomial Complexity\")\n",
        "plt.ylabel(\"RMSE\")\n",
        "plt.legend()"
      ]
    },
    {
      "cell_type": "markdown",
      "metadata": {
        "id": "pDn9gby-uQYp"
      },
      "source": [
        "### 8- Choose the best degree and print the errors, model coefficients and the lasso parameters."
      ]
    },
    {
      "cell_type": "code",
      "execution_count": 40,
      "metadata": {
        "colab": {
          "base_uri": "https://localhost:8080/"
        },
        "id": "XR1GjAaS51Oy",
        "outputId": "d888ca13-f477-4915-fc90-bd97c337a39d"
      },
      "outputs": [
        {
          "name": "stderr",
          "output_type": "stream",
          "text": [
            "/usr/local/lib/python3.7/dist-packages/sklearn/linear_model/_coordinate_descent.py:648: ConvergenceWarning: Objective did not converge. You might want to increase the number of iterations, check the scale of the features or consider increasing regularisation. Duality gap: 1.457e+03, tolerance: 1.186e+03\n",
            "  coef_, l1_reg, l2_reg, X, y, max_iter, tol, rng, random, positive\n"
          ]
        }
      ],
      "source": [
        "#TODO\n",
        "#correct degree\n",
        "polynomial_converter = PolynomialFeatures(degree=index,include_bias=False)\n",
        "poly_features = polynomial_converter.fit_transform(x)\n",
        "X_train, X_test, y_train, y_test = train_test_split(poly_features, y, test_size=0.3, random_state=101)\n",
        "\n",
        "norm = MinMaxScaler().fit(X_train)\n",
        "X_train_norm = norm.transform(X_train)\n",
        "X_test_norm = norm.transform(X_test)\n",
        "\n",
        "lasso_cv_model = LassoCV(eps=0.1,n_alphas=100,cv=5)\n",
        "lasso_cv_model.fit(X_train_norm,y_train)\n",
        "test_predictions = lasso_cv_model.predict(X_test_norm)\n",
        "train_predictions = lasso_cv_model.predict(X_train_norm)\n",
        "\n",
        "\n"
      ]
    },
    {
      "cell_type": "code",
      "execution_count": 41,
      "metadata": {
        "colab": {
          "base_uri": "https://localhost:8080/"
        },
        "collapsed": true,
        "id": "xLdmHaPBuQYq",
        "outputId": "28d20e16-05cc-4d56-a5ea-5f13cc73b203"
      },
      "outputs": [
        {
          "data": {
            "text/plain": [
              "0.780666761884758"
            ]
          },
          "execution_count": 41,
          "metadata": {},
          "output_type": "execute_result"
        }
      ],
      "source": [
        "lasso_cv_model.alpha_"
      ]
    },
    {
      "cell_type": "code",
      "execution_count": 42,
      "metadata": {
        "id": "yO6M6pb6lsie"
      },
      "outputs": [],
      "source": [
        "lassoMAE = mean_absolute_error(y_test,test_predictions)\n",
        "lassoMSE = mean_squared_error(y_test,test_predictions)\n",
        "lassoRMSE = np.sqrt(lassoMSE)"
      ]
    },
    {
      "cell_type": "code",
      "execution_count": 43,
      "metadata": {
        "colab": {
          "base_uri": "https://localhost:8080/"
        },
        "id": "Re3TP2NpnbWZ",
        "outputId": "e8663ad5-ef2d-440b-c723-1f2c1ec6c4ef"
      },
      "outputs": [
        {
          "data": {
            "text/plain": [
              "23.206727570083"
            ]
          },
          "execution_count": 43,
          "metadata": {},
          "output_type": "execute_result"
        }
      ],
      "source": [
        "lassoRMSE"
      ]
    },
    {
      "cell_type": "code",
      "execution_count": 44,
      "metadata": {
        "colab": {
          "base_uri": "https://localhost:8080/"
        },
        "id": "pVzPDDcJlsie",
        "outputId": "43b9b27e-d838-4de9-d854-cde6af5547cf"
      },
      "outputs": [
        {
          "data": {
            "text/plain": [
              "17.23005918000503"
            ]
          },
          "execution_count": 44,
          "metadata": {},
          "output_type": "execute_result"
        }
      ],
      "source": [
        "lassoMAE"
      ]
    },
    {
      "cell_type": "code",
      "execution_count": 45,
      "metadata": {
        "colab": {
          "base_uri": "https://localhost:8080/"
        },
        "id": "Cn-icrAEpv2G",
        "outputId": "797fae4c-7833-4595-e41f-8f1a473a9f9d"
      },
      "outputs": [
        {
          "data": {
            "text/plain": [
              "array([ 0.,  0., -0., ...,  0.,  0.,  0.])"
            ]
          },
          "execution_count": 45,
          "metadata": {},
          "output_type": "execute_result"
        }
      ],
      "source": [
        "lasso_cv_model.coef_"
      ]
    },
    {
      "cell_type": "code",
      "execution_count": 46,
      "metadata": {
        "colab": {
          "base_uri": "https://localhost:8080/"
        },
        "id": "X1hne04aqhY_",
        "outputId": "11411835-fe0c-4bca-c13a-f8f22b4e8218"
      },
      "outputs": [
        {
          "data": {
            "text/plain": [
              "{'alphas': None,\n",
              " 'copy_X': True,\n",
              " 'cv': 5,\n",
              " 'eps': 0.1,\n",
              " 'fit_intercept': True,\n",
              " 'max_iter': 1000,\n",
              " 'n_alphas': 100,\n",
              " 'n_jobs': None,\n",
              " 'normalize': 'deprecated',\n",
              " 'positive': False,\n",
              " 'precompute': 'auto',\n",
              " 'random_state': None,\n",
              " 'selection': 'cyclic',\n",
              " 'tol': 0.0001,\n",
              " 'verbose': False}"
            ]
          },
          "execution_count": 46,
          "metadata": {},
          "output_type": "execute_result"
        }
      ],
      "source": [
        "lasso_cv_model.get_params(deep=True)\n"
      ]
    },
    {
      "cell_type": "markdown",
      "metadata": {
        "id": "M8SOg6KEuQYq"
      },
      "source": [
        "### 9a- Evaluate different degrees of Ridge CV polynomial regression"
      ]
    },
    {
      "cell_type": "code",
      "execution_count": 36,
      "metadata": {
        "id": "yxLiox4_lsib"
      },
      "outputs": [],
      "source": [
        "from sklearn.linear_model import RidgeCV"
      ]
    },
    {
      "cell_type": "code",
      "execution_count": 48,
      "metadata": {
        "colab": {
          "base_uri": "https://localhost:8080/"
        },
        "id": "OCNijYfolsib",
        "outputId": "a6d3eb22-30a8-48af-f370-ccf3347d2512"
      },
      "outputs": [
        {
          "name": "stdout",
          "output_type": "stream",
          "text": [
            "1\n",
            "2\n",
            "3\n",
            "4\n",
            "5\n"
          ]
        }
      ],
      "source": [
        "# TRAINING ERROR PER DEGREE\n",
        "Ridge_train_rmse_errors = []\n",
        "# TEST ERROR PER DEGREE\n",
        "Ridge_test_rmse_errors = []\n",
        "RmseMin=10000\n",
        "index=0\n",
        "for i in range (1,6):\n",
        "    polynomial_converter = PolynomialFeatures(degree=i,include_bias=False)\n",
        "    poly_features = polynomial_converter.fit_transform(x)\n",
        "    X_train, X_test, y_train, y_test = train_test_split(poly_features, y, test_size=0.3, random_state=101)\n",
        "\n",
        "    norm = MinMaxScaler().fit(X_train)\n",
        "    X_train_norm = norm.transform(X_train)\n",
        "    X_test_norm = norm.transform(X_test)\n",
        "\n",
        "    ridge_cv_model = RidgeCV(alphas=(0.1, 1.0, 10.0),scoring='neg_mean_absolute_error')\n",
        "    ridge_cv_model.fit(X_train_norm,y_train)\n",
        "    test_predictions = ridge_cv_model.predict(X_test_norm)\n",
        "    train_predictions = ridge_cv_model.predict(X_train_norm)\n",
        "\n",
        "    MSE1 = mean_squared_error(y_test,test_predictions)\n",
        "    TestRMSE = np.sqrt(MSE1)\n",
        "\n",
        "    if(TestRMSE<RmseMin):\n",
        "       RmseMin=TestRMSE\n",
        "       index=i\n",
        "       print(index)\n",
        "    MSE2 = mean_squared_error(y_train,train_predictions)\n",
        "    TrainRMSE = np.sqrt(MSE2)\n",
        "\n",
        "    Ridge_train_rmse_errors.append(TestRMSE)\n",
        "    Ridge_test_rmse_errors.append(TrainRMSE)\n"
      ]
    },
    {
      "cell_type": "code",
      "execution_count": 49,
      "metadata": {
        "colab": {
          "base_uri": "https://localhost:8080/",
          "height": 297
        },
        "id": "kJ3fngYGfZks",
        "outputId": "e24de09f-4f7e-47d7-e259-e457f13902bb"
      },
      "outputs": [
        {
          "data": {
            "text/plain": [
              "<matplotlib.legend.Legend at 0x7f38e4eb2c10>"
            ]
          },
          "execution_count": 49,
          "metadata": {},
          "output_type": "execute_result"
        },
        {
          "data": {
            "image/png": "[encoded data removed]",
            "text/plain": [
              "<Figure size 432x288 with 1 Axes>"
            ]
          },
          "metadata": {
            "needs_background": "light"
          },
          "output_type": "display_data"
        }
      ],
      "source": [
        "plt.plot(range(1,6),Ridge_train_rmse_errors,label='TRAIN')\n",
        "plt.plot(range(1,6),Ridge_test_rmse_errors,label='TEST')\n",
        "plt.xlabel(\"Polynomial Complexity\")\n",
        "plt.ylabel(\"RMSE\")\n",
        "plt.legend()"
      ]
    },
    {
      "cell_type": "markdown",
      "metadata": {
        "id": "8Bj_3j9RuQYr"
      },
      "source": [
        "### 9b- Choose the best degree and print the errors, model coefficients and the Ridge parameters."
      ]
    },
    {
      "cell_type": "code",
      "execution_count": 37,
      "metadata": {
        "id": "5XKNMvIFlsic"
      },
      "outputs": [],
      "source": [
        "polynomial_converter = PolynomialFeatures(degree=5,include_bias=False)\n",
        "poly_features = polynomial_converter.fit_transform(x)\n",
        "X_train, X_test, y_train, y_test = train_test_split(poly_features, y, test_size=0.3, random_state=101)\n",
        "\n",
        "norm = MinMaxScaler().fit(X_train)\n",
        "X_train_norm = norm.transform(X_train)\n",
        "X_test_norm = norm.transform(X_test)\n",
        "\n",
        "ridge_cv_model = RidgeCV(alphas=(0.1, 1.0, 10.0),scoring='neg_mean_absolute_error')\n",
        "ridge_cv_model.fit(X_train_norm,y_train)\n",
        "test_predictions = ridge_cv_model.predict(X_test_norm)\n",
        "train_predictions = ridge_cv_model.predict(X_train_norm)\n"
      ]
    },
    {
      "cell_type": "code",
      "execution_count": 66,
      "metadata": {
        "colab": {
          "base_uri": "https://localhost:8080/"
        },
        "id": "oytFxfVWb8JG",
        "outputId": "7e13ae04-d3a8-4bae-8af3-090e1602d745"
      },
      "outputs": [
        {
          "data": {
            "text/plain": [
              "array([233.3846459 , 109.96987554, 128.28113694, ..., 114.28441553,\n",
              "        28.48987395, 140.61064774])"
            ]
          },
          "execution_count": 66,
          "metadata": {},
          "output_type": "execute_result"
        }
      ],
      "source": [
        "train_predictions"
      ]
    },
    {
      "cell_type": "code",
      "execution_count": 69,
      "metadata": {
        "colab": {
          "base_uri": "https://localhost:8080/",
          "height": 488
        },
        "id": "jbClnYONcnfP",
        "outputId": "57460065-a2a6-4629-fdd7-df5e7b10cd76"
      },
      "outputs": [
        {
          "data": {
            "text/html": [
              "\n",
              "  <div id=\"df-3df0b7eb-273a-44f6-afd0-e39562120799\">\n",
              "    <div class=\"colab-df-container\">\n",
              "      <div>\n",
              "<style scoped>\n",
              "    .dataframe tbody tr th:only-of-type {\n",
              "        vertical-align: middle;\n",
              "    }\n",
              "\n",
              "    .dataframe tbody tr th {\n",
              "        vertical-align: top;\n",
              "    }\n",
              "\n",
              "    .dataframe thead th {\n",
              "        text-align: right;\n",
              "    }\n",
              "</style>\n",
              "<table border=\"1\" class=\"dataframe\">\n",
              "  <thead>\n",
              "    <tr style=\"text-align: right;\">\n",
              "      <th></th>\n",
              "      <th>PT08.S1(CO)</th>\n",
              "      <th>PT08.S2(NMHC)</th>\n",
              "      <th>PT08.S3(NOx)</th>\n",
              "      <th>PT08.S4(NO2)</th>\n",
              "      <th>PT08.S5(O3)</th>\n",
              "      <th>T</th>\n",
              "      <th>RH</th>\n",
              "      <th>AH</th>\n",
              "      <th>Day</th>\n",
              "      <th>Month</th>\n",
              "      <th>Year</th>\n",
              "      <th>Hours</th>\n",
              "      <th>Minutes</th>\n",
              "      <th>Seconds</th>\n",
              "    </tr>\n",
              "  </thead>\n",
              "  <tbody>\n",
              "    <tr>\n",
              "      <th>0</th>\n",
              "      <td>1360.0</td>\n",
              "      <td>1046.0</td>\n",
              "      <td>1056.0</td>\n",
              "      <td>1692.0</td>\n",
              "      <td>1268.0</td>\n",
              "      <td>13.6</td>\n",
              "      <td>48.9</td>\n",
              "      <td>0.7578</td>\n",
              "      <td>3</td>\n",
              "      <td>10</td>\n",
              "      <td>2004</td>\n",
              "      <td>18</td>\n",
              "      <td>00</td>\n",
              "      <td>00</td>\n",
              "    </tr>\n",
              "    <tr>\n",
              "      <th>1</th>\n",
              "      <td>1292.0</td>\n",
              "      <td>955.0</td>\n",
              "      <td>1174.0</td>\n",
              "      <td>1559.0</td>\n",
              "      <td>972.0</td>\n",
              "      <td>13.3</td>\n",
              "      <td>47.7</td>\n",
              "      <td>0.7255</td>\n",
              "      <td>3</td>\n",
              "      <td>10</td>\n",
              "      <td>2004</td>\n",
              "      <td>19</td>\n",
              "      <td>00</td>\n",
              "      <td>00</td>\n",
              "    </tr>\n",
              "    <tr>\n",
              "      <th>2</th>\n",
              "      <td>1402.0</td>\n",
              "      <td>939.0</td>\n",
              "      <td>1140.0</td>\n",
              "      <td>1555.0</td>\n",
              "      <td>1074.0</td>\n",
              "      <td>11.9</td>\n",
              "      <td>54.0</td>\n",
              "      <td>0.7502</td>\n",
              "      <td>3</td>\n",
              "      <td>10</td>\n",
              "      <td>2004</td>\n",
              "      <td>20</td>\n",
              "      <td>00</td>\n",
              "      <td>00</td>\n",
              "    </tr>\n",
              "    <tr>\n",
              "      <th>3</th>\n",
              "      <td>1376.0</td>\n",
              "      <td>948.0</td>\n",
              "      <td>1092.0</td>\n",
              "      <td>1584.0</td>\n",
              "      <td>1203.0</td>\n",
              "      <td>11.0</td>\n",
              "      <td>60.0</td>\n",
              "      <td>0.7867</td>\n",
              "      <td>3</td>\n",
              "      <td>10</td>\n",
              "      <td>2004</td>\n",
              "      <td>21</td>\n",
              "      <td>00</td>\n",
              "      <td>00</td>\n",
              "    </tr>\n",
              "    <tr>\n",
              "      <th>4</th>\n",
              "      <td>1272.0</td>\n",
              "      <td>836.0</td>\n",
              "      <td>1205.0</td>\n",
              "      <td>1490.0</td>\n",
              "      <td>1110.0</td>\n",
              "      <td>11.2</td>\n",
              "      <td>59.6</td>\n",
              "      <td>0.7888</td>\n",
              "      <td>3</td>\n",
              "      <td>10</td>\n",
              "      <td>2004</td>\n",
              "      <td>22</td>\n",
              "      <td>00</td>\n",
              "      <td>00</td>\n",
              "    </tr>\n",
              "    <tr>\n",
              "      <th>...</th>\n",
              "      <td>...</td>\n",
              "      <td>...</td>\n",
              "      <td>...</td>\n",
              "      <td>...</td>\n",
              "      <td>...</td>\n",
              "      <td>...</td>\n",
              "      <td>...</td>\n",
              "      <td>...</td>\n",
              "      <td>...</td>\n",
              "      <td>...</td>\n",
              "      <td>...</td>\n",
              "      <td>...</td>\n",
              "      <td>...</td>\n",
              "      <td>...</td>\n",
              "    </tr>\n",
              "    <tr>\n",
              "      <th>9352</th>\n",
              "      <td>1314.0</td>\n",
              "      <td>1101.0</td>\n",
              "      <td>539.0</td>\n",
              "      <td>1374.0</td>\n",
              "      <td>1729.0</td>\n",
              "      <td>21.9</td>\n",
              "      <td>29.3</td>\n",
              "      <td>0.7568</td>\n",
              "      <td>4</td>\n",
              "      <td>4</td>\n",
              "      <td>2005</td>\n",
              "      <td>10</td>\n",
              "      <td>00</td>\n",
              "      <td>00</td>\n",
              "    </tr>\n",
              "    <tr>\n",
              "      <th>9353</th>\n",
              "      <td>1163.0</td>\n",
              "      <td>1027.0</td>\n",
              "      <td>604.0</td>\n",
              "      <td>1264.0</td>\n",
              "      <td>1269.0</td>\n",
              "      <td>24.3</td>\n",
              "      <td>23.7</td>\n",
              "      <td>0.7119</td>\n",
              "      <td>4</td>\n",
              "      <td>4</td>\n",
              "      <td>2005</td>\n",
              "      <td>11</td>\n",
              "      <td>00</td>\n",
              "      <td>00</td>\n",
              "    </tr>\n",
              "    <tr>\n",
              "      <th>9354</th>\n",
              "      <td>1142.0</td>\n",
              "      <td>1063.0</td>\n",
              "      <td>603.0</td>\n",
              "      <td>1241.0</td>\n",
              "      <td>1092.0</td>\n",
              "      <td>26.9</td>\n",
              "      <td>18.3</td>\n",
              "      <td>0.6406</td>\n",
              "      <td>4</td>\n",
              "      <td>4</td>\n",
              "      <td>2005</td>\n",
              "      <td>12</td>\n",
              "      <td>00</td>\n",
              "      <td>00</td>\n",
              "    </tr>\n",
              "    <tr>\n",
              "      <th>9355</th>\n",
              "      <td>1003.0</td>\n",
              "      <td>961.0</td>\n",
              "      <td>702.0</td>\n",
              "      <td>1041.0</td>\n",
              "      <td>770.0</td>\n",
              "      <td>28.3</td>\n",
              "      <td>13.5</td>\n",
              "      <td>0.5139</td>\n",
              "      <td>4</td>\n",
              "      <td>4</td>\n",
              "      <td>2005</td>\n",
              "      <td>13</td>\n",
              "      <td>00</td>\n",
              "      <td>00</td>\n",
              "    </tr>\n",
              "    <tr>\n",
              "      <th>9356</th>\n",
              "      <td>1071.0</td>\n",
              "      <td>1047.0</td>\n",
              "      <td>654.0</td>\n",
              "      <td>1129.0</td>\n",
              "      <td>816.0</td>\n",
              "      <td>28.5</td>\n",
              "      <td>13.1</td>\n",
              "      <td>0.5028</td>\n",
              "      <td>4</td>\n",
              "      <td>4</td>\n",
              "      <td>2005</td>\n",
              "      <td>14</td>\n",
              "      <td>00</td>\n",
              "      <td>00</td>\n",
              "    </tr>\n",
              "  </tbody>\n",
              "</table>\n",
              "<p>7393 rows × 14 columns</p>\n",
              "</div>\n",
              "      <button class=\"colab-df-convert\" onclick=\"convertToInteractive('df-3df0b7eb-273a-44f6-afd0-e39562120799')\"\n",
              "              title=\"Convert this dataframe to an interactive table.\"\n",
              "              style=\"display:none;\">\n",
              "        \n",
              "  <svg xmlns=\"http://www.w3.org/2000/svg\" height=\"24px\"viewBox=\"0 0 24 24\"\n",
              "       width=\"24px\">\n",
              "    <path d=\"M0 0h24v24H0V0z\" fill=\"none\"/>\n",
              "    <path d=\"M18.56 5.44l.94 2.06.94-2.06 2.06-.94-2.06-.94-.94-2.06-.94 2.06-2.06.94zm-11 1L8.5 8.5l.94-2.06 2.06-.94-2.06-.94L8.5 2.5l-.94 2.06-2.06.94zm10 10l.94 2.06.94-2.06 2.06-.94-2.06-.94-.94-2.06-.94 2.06-2.06.94z\"/><path d=\"M17.41 7.96l-1.37-1.37c-.4-.4-.92-.59-1.43-.59-.52 0-1.04.2-1.43.59L10.3 9.45l-7.72 7.72c-.78.78-.78 2.05 0 2.83L4 21.41c.39.39.9.59 1.41.59.51 0 1.02-.2 1.41-.59l7.78-7.78 2.81-2.81c.8-.78.8-2.07 0-2.86zM5.41 20L4 18.59l7.72-7.72 1.47 1.35L5.41 20z\"/>\n",
              "  </svg>\n",
              "      </button>\n",
              "      \n",
              "  <style>\n",
              "    .colab-df-container {\n",
              "      display:flex;\n",
              "      flex-wrap:wrap;\n",
              "      gap: 12px;\n",
              "    }\n",
              "\n",
              "    .colab-df-convert {\n",
              "      background-color: #E8F0FE;\n",
              "      border: none;\n",
              "      border-radius: 50%;\n",
              "      cursor: pointer;\n",
              "      display: none;\n",
              "      fill: #1967D2;\n",
              "      height: 32px;\n",
              "      padding: 0 0 0 0;\n",
              "      width: 32px;\n",
              "    }\n",
              "\n",
              "    .colab-df-convert:hover {\n",
              "      background-color: #E2EBFA;\n",
              "      box-shadow: 0px 1px 2px rgba(60, 64, 67, 0.3), 0px 1px 3px 1px rgba(60, 64, 67, 0.15);\n",
              "      fill: #174EA6;\n",
              "    }\n",
              "\n",
              "    [theme=dark] .colab-df-convert {\n",
              "      background-color: #3B4455;\n",
              "      fill: #D2E3FC;\n",
              "    }\n",
              "\n",
              "    [theme=dark] .colab-df-convert:hover {\n",
              "      background-color: #434B5C;\n",
              "      box-shadow: 0px 1px 3px 1px rgba(0, 0, 0, 0.15);\n",
              "      filter: drop-shadow(0px 1px 2px rgba(0, 0, 0, 0.3));\n",
              "      fill: #FFFFFF;\n",
              "    }\n",
              "  </style>\n",
              "\n",
              "      <script>\n",
              "        const buttonEl =\n",
              "          document.querySelector('#df-3df0b7eb-273a-44f6-afd0-e39562120799 button.colab-df-convert');\n",
              "        buttonEl.style.display =\n",
              "          google.colab.kernel.accessAllowed ? 'block' : 'none';\n",
              "\n",
              "        async function convertToInteractive(key) {\n",
              "          const element = document.querySelector('#df-3df0b7eb-273a-44f6-afd0-e39562120799');\n",
              "          const dataTable =\n",
              "            await google.colab.kernel.invokeFunction('convertToInteractive',\n",
              "                                                     [key], {});\n",
              "          if (!dataTable) return;\n",
              "\n",
              "          const docLinkHtml = 'Like what you see? Visit the ' +\n",
              "            '<a target=\"_blank\" href=https://colab.research.google.com/notebooks/data_table.ipynb>data table notebook</a>'\n",
              "            + ' to learn more about interactive tables.';\n",
              "          element.innerHTML = '';\n",
              "          dataTable['output_type'] = 'display_data';\n",
              "          await google.colab.output.renderOutput(dataTable, element);\n",
              "          const docLink = document.createElement('div');\n",
              "          docLink.innerHTML = docLinkHtml;\n",
              "          element.appendChild(docLink);\n",
              "        }\n",
              "      </script>\n",
              "    </div>\n",
              "  </div>\n",
              "  "
            ],
            "text/plain": [
              "      PT08.S1(CO)  PT08.S2(NMHC)  PT08.S3(NOx)  PT08.S4(NO2)  PT08.S5(O3)  \\\n",
              "0          1360.0         1046.0        1056.0        1692.0       1268.0   \n",
              "1          1292.0          955.0        1174.0        1559.0        972.0   \n",
              "2          1402.0          939.0        1140.0        1555.0       1074.0   \n",
              "3          1376.0          948.0        1092.0        1584.0       1203.0   \n",
              "4          1272.0          836.0        1205.0        1490.0       1110.0   \n",
              "...           ...            ...           ...           ...          ...   \n",
              "9352       1314.0         1101.0         539.0        1374.0       1729.0   \n",
              "9353       1163.0         1027.0         604.0        1264.0       1269.0   \n",
              "9354       1142.0         1063.0         603.0        1241.0       1092.0   \n",
              "9355       1003.0          961.0         702.0        1041.0        770.0   \n",
              "9356       1071.0         1047.0         654.0        1129.0        816.0   \n",
              "\n",
              "         T    RH      AH Day Month  Year Hours Minutes Seconds  \n",
              "0     13.6  48.9  0.7578   3    10  2004    18      00      00  \n",
              "1     13.3  47.7  0.7255   3    10  2004    19      00      00  \n",
              "2     11.9  54.0  0.7502   3    10  2004    20      00      00  \n",
              "3     11.0  60.0  0.7867   3    10  2004    21      00      00  \n",
              "4     11.2  59.6  0.7888   3    10  2004    22      00      00  \n",
              "...    ...   ...     ...  ..   ...   ...   ...     ...     ...  \n",
              "9352  21.9  29.3  0.7568   4     4  2005    10      00      00  \n",
              "9353  24.3  23.7  0.7119   4     4  2005    11      00      00  \n",
              "9354  26.9  18.3  0.6406   4     4  2005    12      00      00  \n",
              "9355  28.3  13.5  0.5139   4     4  2005    13      00      00  \n",
              "9356  28.5  13.1  0.5028   4     4  2005    14      00      00  \n",
              "\n",
              "[7393 rows x 14 columns]"
            ]
          },
          "execution_count": 69,
          "metadata": {},
          "output_type": "execute_result"
        }
      ],
      "source": [
        "x"
      ]
    },
    {
      "cell_type": "code",
      "execution_count": null,
      "metadata": {
        "id": "npqX6AUscnm2"
      },
      "outputs": [],
      "source": []
    },
    {
      "cell_type": "code",
      "execution_count": 67,
      "metadata": {
        "colab": {
          "base_uri": "https://localhost:8080/"
        },
        "id": "6lKjDfpQb_tv",
        "outputId": "56e31b3d-f032-482a-b6a0-0fc4fc61020e"
      },
      "outputs": [
        {
          "data": {
            "text/plain": [
              "array([[0.66813834, 0.64593596, 0.05209657, ..., 0.        , 0.        ,\n",
              "        0.        ],\n",
              "       [0.66004415, 0.4729064 , 0.18932656, ..., 0.        , 0.        ,\n",
              "        0.        ],\n",
              "       [0.47608536, 0.39039409, 0.08640407, ..., 0.        , 0.        ,\n",
              "        0.        ],\n",
              "       ...,\n",
              "       [0.63870493, 0.66317734, 0.0969928 , ..., 0.        , 0.        ,\n",
              "        0.        ],\n",
              "       [0.13318617, 0.16071429, 0.38670055, ..., 0.        , 0.        ,\n",
              "        0.        ],\n",
              "       [0.47093451, 0.5270936 , 0.17407878, ..., 0.        , 0.        ,\n",
              "        0.        ]])"
            ]
          },
          "execution_count": 67,
          "metadata": {},
          "output_type": "execute_result"
        }
      ],
      "source": [
        "X_train_norm"
      ]
    },
    {
      "cell_type": "code",
      "execution_count": 51,
      "metadata": {
        "id": "E_2ckMKXlsic"
      },
      "outputs": [],
      "source": [
        "ridgeMAE = mean_absolute_error(y_test,test_predictions)\n",
        "ridgeMSE = mean_squared_error(y_test,test_predictions)\n",
        "ridgeRMSE = np.sqrt(ridgeMSE)"
      ]
    },
    {
      "cell_type": "code",
      "execution_count": 52,
      "metadata": {
        "colab": {
          "base_uri": "https://localhost:8080/"
        },
        "id": "XjqUt1zmlsic",
        "outputId": "062ea545-5205-4eea-f4e8-000aea081995"
      },
      "outputs": [
        {
          "data": {
            "text/plain": [
              "11.169436334548346"
            ]
          },
          "execution_count": 52,
          "metadata": {},
          "output_type": "execute_result"
        }
      ],
      "source": [
        "ridgeMAE"
      ]
    },
    {
      "cell_type": "code",
      "execution_count": 53,
      "metadata": {
        "colab": {
          "base_uri": "https://localhost:8080/"
        },
        "id": "osCZYpMPlsic",
        "outputId": "6399fa0b-85fb-4382-9d90-cdf640adfb1f"
      },
      "outputs": [
        {
          "data": {
            "text/plain": [
              "16.12026485875756"
            ]
          },
          "execution_count": 53,
          "metadata": {},
          "output_type": "execute_result"
        }
      ],
      "source": [
        "ridgeRMSE"
      ]
    },
    {
      "cell_type": "code",
      "execution_count": 54,
      "metadata": {
        "colab": {
          "base_uri": "https://localhost:8080/"
        },
        "id": "aezMJMoQlsid",
        "outputId": "90b976bf-f242-4c7e-96ee-1915b6df0ef0"
      },
      "outputs": [
        {
          "data": {
            "text/plain": [
              "array([ 26.69578426,  44.9489877 , -26.32678985, ...,   0.        ,\n",
              "         0.        ,   0.        ])"
            ]
          },
          "execution_count": 54,
          "metadata": {},
          "output_type": "execute_result"
        }
      ],
      "source": [
        "ridge_cv_model.coef_"
      ]
    },
    {
      "cell_type": "code",
      "execution_count": 55,
      "metadata": {
        "colab": {
          "base_uri": "https://localhost:8080/"
        },
        "id": "m7qh3RfVg1Br",
        "outputId": "17df57e8-660d-461c-b1ca-74c43e0fb1ae"
      },
      "outputs": [
        {
          "data": {
            "text/plain": [
              "{'alpha_per_target': False,\n",
              " 'alphas': array([ 0.1,  1. , 10. ]),\n",
              " 'cv': None,\n",
              " 'fit_intercept': True,\n",
              " 'gcv_mode': None,\n",
              " 'normalize': 'deprecated',\n",
              " 'scoring': 'neg_mean_absolute_error',\n",
              " 'store_cv_values': False}"
            ]
          },
          "execution_count": 55,
          "metadata": {},
          "output_type": "execute_result"
        }
      ],
      "source": [
        "ridge_cv_model.get_params(deep=True)"
      ]
    },
    {
      "cell_type": "markdown",
      "metadata": {
        "id": "MN4RwweLuQYr"
      },
      "source": [
        "### 10a- Evaluate different degrees of ElasticNet CV polynomial regression"
      ]
    },
    {
      "cell_type": "code",
      "execution_count": 56,
      "metadata": {
        "id": "XBqIvPl6lsig"
      },
      "outputs": [],
      "source": [
        "from sklearn.linear_model import ElasticNetCV"
      ]
    },
    {
      "cell_type": "code",
      "execution_count": 57,
      "metadata": {
        "colab": {
          "base_uri": "https://localhost:8080/"
        },
        "id": "NBw2nNJAbWY2",
        "outputId": "5d3fac28-730f-4d99-82f3-be6bd5548148"
      },
      "outputs": [
        {
          "name": "stdout",
          "output_type": "stream",
          "text": [
            "1\n",
            "1\n",
            "2\n",
            "2\n",
            "3\n",
            "3\n",
            "4\n",
            "4\n",
            "5\n",
            "5\n"
          ]
        }
      ],
      "source": [
        "# TRAINING ERROR PER DEGREE\n",
        "Elastic_train_rmse_errors = []\n",
        "# TEST ERROR PER DEGREE\n",
        "Elastic_test_rmse_errors = []\n",
        "RmseMin=10000\n",
        "index=0\n",
        "for i in range (1,6):\n",
        "    print(i)\n",
        "    polynomial_converter = PolynomialFeatures(degree=i,include_bias=False)\n",
        "    poly_features = polynomial_converter.fit_transform(x)\n",
        "    X_train, X_test, y_train, y_test = train_test_split(poly_features, y, test_size=0.3, random_state=101)\n",
        "\n",
        "    norm = MinMaxScaler().fit(X_train)\n",
        "    X_train_norm = norm.transform(X_train)\n",
        "    X_test_norm = norm.transform(X_test)\n",
        "\n",
        "    elastic_model = ElasticNetCV(l1_ratio=[.1, .5, .7,.9, .95, .99, 1],tol=0.01)\n",
        "    elastic_model.fit(X_train_norm,y_train)\n",
        "    test_predictions = elastic_model.predict(X_test_norm)\n",
        "    train_predictions = elastic_model.predict(X_train_norm)\n",
        "\n",
        "    MSE1 = mean_squared_error(y_test,test_predictions)\n",
        "    TestRMSE = np.sqrt(MSE1)\n",
        "\n",
        "    if(TestRMSE<RmseMin):\n",
        "       RmseMin=TestRMSE\n",
        "       index=i\n",
        "       print(index)\n",
        "\n",
        "    MSE2 = mean_squared_error(y_train,train_predictions)\n",
        "    TrainRMSE = np.sqrt(MSE2)\n",
        "\n",
        "    Elastic_train_rmse_errors.append(TestRMSE)\n",
        "    Elastic_test_rmse_errors.append(TrainRMSE)\n"
      ]
    },
    {
      "cell_type": "code",
      "execution_count": 58,
      "metadata": {
        "colab": {
          "base_uri": "https://localhost:8080/",
          "height": 297
        },
        "id": "HK0DCDc9hE17",
        "outputId": "f2cd54a2-c6c9-4269-a6b5-78d502f2625e"
      },
      "outputs": [
        {
          "data": {
            "text/plain": [
              "<matplotlib.legend.Legend at 0x7f38e2350990>"
            ]
          },
          "execution_count": 58,
          "metadata": {},
          "output_type": "execute_result"
        },
        {
          "data": {
            "image/png": "[encoded data removed]",
            "text/plain": [
              "<Figure size 432x288 with 1 Axes>"
            ]
          },
          "metadata": {
            "needs_background": "light"
          },
          "output_type": "display_data"
        }
      ],
      "source": [
        "plt.plot(range(1,6),Elastic_train_rmse_errors,label='TRAIN')\n",
        "plt.plot(range(1,6),Elastic_test_rmse_errors,label='TEST')\n",
        "plt.xlabel(\"Polynomial Complexity\")\n",
        "plt.ylabel(\"RMSE\")\n",
        "plt.legend()"
      ]
    },
    {
      "cell_type": "markdown",
      "metadata": {
        "id": "JSt5s73XuQYr"
      },
      "source": [
        "### 10b- Choose the best degree and print the errors, model coefficients and ElasticNet parameters."
      ]
    },
    {
      "cell_type": "code",
      "execution_count": 59,
      "metadata": {
        "id": "aycAjvgQi3NU"
      },
      "outputs": [],
      "source": [
        "polynomial_converter = PolynomialFeatures(degree=index,include_bias=False)\n",
        "poly_features = polynomial_converter.fit_transform(x)\n",
        "X_train, X_test, y_train, y_test = train_test_split(poly_features, y, test_size=0.3, random_state=101)\n",
        "\n",
        "norm = MinMaxScaler().fit(X_train)\n",
        "X_train_norm = norm.transform(X_train)\n",
        "X_test_norm = norm.transform(X_test)\n",
        "\n",
        "elastic_model = ElasticNetCV(l1_ratio=[.1, .5, .7,.9, .95, .99, 1],tol=0.01)\n",
        "elastic_model.fit(X_train_norm,y_train)\n",
        "test_predictions = elastic_model.predict(X_test_norm)\n",
        "train_predictions = elastic_model.predict(X_train_norm)"
      ]
    },
    {
      "cell_type": "code",
      "execution_count": 60,
      "metadata": {
        "colab": {
          "base_uri": "https://localhost:8080/"
        },
        "id": "0gAY2hY-lsig",
        "outputId": "244698fc-883b-4e12-9d73-4dc381db0baa"
      },
      "outputs": [
        {
          "data": {
            "text/plain": [
              "1.0"
            ]
          },
          "execution_count": 60,
          "metadata": {},
          "output_type": "execute_result"
        }
      ],
      "source": [
        "elastic_model.l1_ratio_"
      ]
    },
    {
      "cell_type": "code",
      "execution_count": 61,
      "metadata": {
        "id": "s5VZCBoslsih"
      },
      "outputs": [],
      "source": [
        "elasticMAE = mean_absolute_error(y_test,test_predictions)\n",
        "elasticMSE = mean_squared_error(y_test,test_predictions)\n",
        "elasticRMSE = np.sqrt(elasticMSE)"
      ]
    },
    {
      "cell_type": "code",
      "execution_count": 62,
      "metadata": {
        "colab": {
          "base_uri": "https://localhost:8080/"
        },
        "id": "-Jz9AZn6lsih",
        "outputId": "529e0dd9-a600-4007-c024-f9f42bcf094b"
      },
      "outputs": [
        {
          "data": {
            "text/plain": [
              "12.500017912920454"
            ]
          },
          "execution_count": 62,
          "metadata": {},
          "output_type": "execute_result"
        }
      ],
      "source": [
        "elasticMAE"
      ]
    },
    {
      "cell_type": "code",
      "execution_count": 63,
      "metadata": {
        "colab": {
          "base_uri": "https://localhost:8080/"
        },
        "id": "lSij-dAylsih",
        "outputId": "b1f9db87-28ef-42c0-bf93-48905980b227"
      },
      "outputs": [
        {
          "data": {
            "text/plain": [
              "17.456135255883723"
            ]
          },
          "execution_count": 63,
          "metadata": {},
          "output_type": "execute_result"
        }
      ],
      "source": [
        "elasticRMSE"
      ]
    },
    {
      "cell_type": "code",
      "execution_count": 64,
      "metadata": {
        "colab": {
          "base_uri": "https://localhost:8080/"
        },
        "id": "yYiD30njlsii",
        "outputId": "752eed0c-75ee-486b-9640-718e61806a77"
      },
      "outputs": [
        {
          "data": {
            "text/plain": [
              "array([ 93.10315533, 119.75451275, -71.05923589, ...,   0.        ,\n",
              "         0.        ,   0.        ])"
            ]
          },
          "execution_count": 64,
          "metadata": {},
          "output_type": "execute_result"
        }
      ],
      "source": [
        "elastic_model.coef_"
      ]
    },
    {
      "cell_type": "code",
      "execution_count": 65,
      "metadata": {
        "colab": {
          "base_uri": "https://localhost:8080/"
        },
        "id": "dMtfxyXdhL0h",
        "outputId": "0a62b045-b04e-42d5-8670-bfbd7a1d4c6d"
      },
      "outputs": [
        {
          "data": {
            "text/plain": [
              "{'alphas': None,\n",
              " 'copy_X': True,\n",
              " 'cv': None,\n",
              " 'eps': 0.001,\n",
              " 'fit_intercept': True,\n",
              " 'l1_ratio': [0.1, 0.5, 0.7, 0.9, 0.95, 0.99, 1],\n",
              " 'max_iter': 1000,\n",
              " 'n_alphas': 100,\n",
              " 'n_jobs': None,\n",
              " 'normalize': 'deprecated',\n",
              " 'positive': False,\n",
              " 'precompute': 'auto',\n",
              " 'random_state': None,\n",
              " 'selection': 'cyclic',\n",
              " 'tol': 0.01,\n",
              " 'verbose': 0}"
            ]
          },
          "execution_count": 65,
          "metadata": {},
          "output_type": "execute_result"
        }
      ],
      "source": [
        "elastic_model.get_params(deep=True)"
      ]
    },
    {
      "cell_type": "markdown",
      "metadata": {
        "id": "O_cuFINquQYs"
      },
      "source": [
        "### 11- Compare the errors from the 3 regularization techniques, and save the best model."
      ]
    },
    {
      "cell_type": "code",
      "execution_count": 91,
      "metadata": {
        "id": "Fr9dET4Oft94"
      },
      "outputs": [],
      "source": [
        "# ridge of degree 5 is found to be the best model with the best degree here\n",
        "polynomial_converter = PolynomialFeatures(degree=5,include_bias=False)\n",
        "poly_features = polynomial_converter.fit_transform(x)\n",
        "X_train, X_test, y_train, y_test = train_test_split(poly_features, y, test_size=0.3, random_state=101)\n",
        "\n",
        "norm = MinMaxScaler().fit(X_train)\n",
        "X_train_norm = norm.transform(X_train)\n",
        "X_test_norm = norm.transform(X_test)\n",
        "\n",
        "ridge_cv_model = RidgeCV(alphas=(0.1, 1.0, 10.0),scoring='neg_mean_absolute_error')\n",
        "ridge_cv_model.fit(X_train_norm,y_train)\n",
        "test_predictions = ridge_cv_model.predict(X_test_norm)\n",
        "train_predictions = ridge_cv_model.predict(X_train_norm)\n"
      ]
    },
    {
      "cell_type": "code",
      "execution_count": 60,
      "metadata": {
        "colab": {
          "base_uri": "https://localhost:8080/"
        },
        "collapsed": true,
        "id": "qn58GoGpuQYs",
        "outputId": "1386d718-488f-4921-8750-f7490b1ace52"
      },
      "outputs": [
        {
          "data": {
            "text/plain": [
              "['polynomial_converter.joblib']"
            ]
          },
          "execution_count": 60,
          "metadata": {},
          "output_type": "execute_result"
        }
      ],
      "source": [
        "from joblib import dump, load\n",
        "\n",
        "\n",
        "dump(ridge_cv_model, 'final_model.joblib') \n",
        "dump(norm,'norm.joblib')\n",
        "dump(polynomial_converter,'polynomial_converter.joblib')"
      ]
    },
    {
      "cell_type": "markdown",
      "metadata": {
        "id": "IUGAAZY4uQYs"
      },
      "source": [
        "### 12- Load the best model and test it on a sample that you manually created it."
      ]
    },
    {
      "cell_type": "code",
      "execution_count": 97,
      "metadata": {
        "colab": {
          "base_uri": "https://localhost:8080/"
        },
        "collapsed": true,
        "id": "SIw1mo3kuQYs",
        "outputId": "871f4df2-fa2f-4c21-9414-d022fc0b4f64"
      },
      "outputs": [
        {
          "name": "stderr",
          "output_type": "stream",
          "text": [
            "/usr/local/lib/python3.7/dist-packages/sklearn/base.py:451: UserWarning: X does not have valid feature names, but PolynomialFeatures was fitted with feature names\n",
            "  \"X does not have valid feature names, but\"\n"
          ]
        },
        {
          "data": {
            "text/plain": [
              "array([278.65127503])"
            ]
          },
          "execution_count": 97,
          "metadata": {},
          "output_type": "execute_result"
        }
      ],
      "source": [
        "manualData = [[1361.0,1048.0,1050.0,1687.0,1265.0,11.6,42.9,0.7698,2,9,2010,12,00,00]]\n",
        "loaded_model = load('final_model.joblib')\n",
        "norm = load('norm.joblib')\n",
        "polynomial_converter = load('polynomial_converter.joblib')\n",
        "\n",
        "poly_features = polynomial_converter.transform(manualData)\n",
        "X_train_norm = norm.transform(poly_features)\n",
        "ridge_cv_model.predict(X_train_norm)\n"
      ]
    }
  ],
  "metadata": {
    "anaconda-cloud": {},
    "colab": {
      "collapsed_sections": [],
      "provenance": []
    },
    "kernelspec": {
      "display_name": "Python 3 (ipykernel)",
      "language": "python",
      "name": "python3"
    },
    "language_info": {
      "codemirror_mode": {
        "name": "ipython",
        "version": 3
      },
      "file_extension": ".py",
      "mimetype": "text/x-python",
      "name": "python",
      "nbconvert_exporter": "python",
      "pygments_lexer": "ipython3",
      "version": "3.9.12"
    }
  },
  "nbformat": 4,
  "nbformat_minor": 0
}
